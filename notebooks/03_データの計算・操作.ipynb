{
 "cells": [
  {
   "cell_type": "markdown",
   "id": "4c8b91a5-36c1-4286-a78c-df600322f178",
   "metadata": {},
   "source": [
    "# データの計算・操作\n",
    "\n",
    "## 概要\n",
    "- numpy\n",
    "- pandas\n",
    "\n",
    "## Numpy\n",
    "### 配列の定義と情報の取得\n",
    "\n",
    "numpyの配列は`np.array`関数で定義できます。  \n",
    "numpyのarrayは行列のような機能が実装されていて、自身の形状や大きさを属性として持ちます。\n",
    "\n",
    "- `shape`: 行列の形を取得\n",
    "- `size`: 要素数を取得"
   ]
  },
  {
   "cell_type": "code",
   "execution_count": 1,
   "id": "a6f6c692-cacb-46ba-ae5b-3301b2fc074d",
   "metadata": {},
   "outputs": [],
   "source": [
    "import numpy as np"
   ]
  },
  {
   "cell_type": "code",
   "execution_count": 2,
   "id": "4af12448-9e5e-4ee7-902e-dbc5d1463891",
   "metadata": {},
   "outputs": [
    {
     "name": "stdout",
     "output_type": "stream",
     "text": [
      "1次元配列\n",
      " [1 2 3 4]\n",
      "配列の形状とサイズ:  (4,) 4\n",
      "2次元配列\n",
      " [[1 2]\n",
      " [3 4]]\n",
      "配列の形状とサイズ:  (2, 2) 4\n"
     ]
    }
   ],
   "source": [
    "# 1次元配列\n",
    "arr_1d = np.array([1, 2, 3, 4])\n",
    "\n",
    "# 2次元配列\n",
    "arr_2d = np.array([[1, 2], [3, 4]])\n",
    "\n",
    "print(\"1次元配列\\n\", arr_1d)\n",
    "print(\"配列の形状とサイズ: \", arr_1d.shape, arr_1d.size)\n",
    "\n",
    "print(\"2次元配列\\n\", arr_2d)\n",
    "print(\"配列の形状とサイズ: \", arr_2d.shape, arr_2d.size)"
   ]
  },
  {
   "cell_type": "markdown",
   "id": "7abd5c17-f4e7-4210-944f-ef680bd80331",
   "metadata": {},
   "source": [
    "### 配列の操作\n",
    "\n",
    "- 要素へのアクセス\n",
    "- 形状の変更: `reshape`\n",
    "- 結合: `concatenate`\n",
    "  結合の向きは`axis`で指定します。\n"
   ]
  },
  {
   "cell_type": "code",
   "execution_count": 3,
   "id": "5694287b-6764-4212-9448-812219b2d1ea",
   "metadata": {},
   "outputs": [
    {
     "name": "stdout",
     "output_type": "stream",
     "text": [
      "元の配列\n",
      " [[0 1 2]\n",
      " [3 4 5]\n",
      " [6 7 8]]\n",
      "要素へのアクセス\n",
      "[0, 1] ->  1\n",
      "[:2, 2] ->  [2 5]\n",
      "[:2, [2]] ->  [[2]\n",
      " [5]]\n",
      "形状の変更\n",
      "3 * 3 -> 1 * 9 に変換\n",
      "[[0 1 2 3 4 5 6 7 8]] (1, 9)\n",
      "3 * 3 -> 9 * 1 に変換\n",
      "[[0]\n",
      " [1]\n",
      " [2]\n",
      " [3]\n",
      " [4]\n",
      " [5]\n",
      " [6]\n",
      " [7]\n",
      " [8]] (9, 1)\n",
      "3 * 3 -> 9 に変換\n",
      "[0 1 2 3 4 5 6 7 8] (9,)\n"
     ]
    }
   ],
   "source": [
    "# 配列の定義\n",
    "arr = np.array([[0, 1, 2], [3, 4, 5], [6, 7, 8]])\n",
    "print(\"元の配列\\n\", arr)\n",
    "\n",
    "# 要素へのアクセス\n",
    "print(\"要素へのアクセス\")\n",
    "print(\"[0, 1] -> \", arr[0, 1])\n",
    "print(\"[:2, 2] -> \", arr[:2, 2])  # 1次元配列が返却される\n",
    "print(\"[:2, [2]] -> \", arr[:2, [2]])  # 2*1の配列が返却される\n",
    "\n",
    "# 形状の変更\n",
    "print(\"形状の変更\")\n",
    "print(\"3 * 3 -> 1 * 9 に変換\")\n",
    "arr_19 = arr.reshape(1, 9)\n",
    "print(arr_19, arr_19.shape)\n",
    "print(\"3 * 3 -> 9 * 1 に変換\")\n",
    "arr_91 = arr.reshape(9, 1)\n",
    "print(arr_91, arr_91.shape) \n",
    "# 1次元配列に変更\n",
    "print(\"3 * 3 -> 9 に変換\")\n",
    "arr_9 = arr.reshape(9,)\n",
    "print(arr_9, arr_9.shape)\n"
   ]
  },
  {
   "cell_type": "code",
   "execution_count": 4,
   "id": "c4313265-92d2-4d8a-ae76-1dac48566070",
   "metadata": {},
   "outputs": [
    {
     "name": "stdout",
     "output_type": "stream",
     "text": [
      "結合する前のarrayを定義\n",
      "arr1:  (2, 4)\n",
      "[[1 2 3 4]\n",
      " [5 6 7 8]]\n",
      "\n",
      "arr2:  (2, 2)\n",
      "[[-1 -2]\n",
      " [-5 -6]]\n",
      "\n",
      "arr３:  (1, 4)\n",
      "[[-1 -2 -3 -4]]\n",
      "\n",
      "縦方向に結合した配列\n",
      "[[ 1  2  3  4]\n",
      " [ 5  6  7  8]\n",
      " [-1 -2 -3 -4]]\n",
      "横方向に結合した配列\n",
      "[[ 1  2  3  4 -1 -2]\n",
      " [ 5  6  7  8 -5 -6]]\n"
     ]
    }
   ],
   "source": [
    "# 配列の結合\n",
    "print(\"結合する前のarrayを定義\")\n",
    "arr1 = np.array([[1, 2, 3, 4], [5, 6, 7, 8]])\n",
    "\n",
    "print(\"arr1: \", arr1.shape)\n",
    "print(arr1, end=\"\\n\\n\")\n",
    "\n",
    "arr2 = np.array([[-1, -2], [-5, -6]])\n",
    "\n",
    "print(\"arr2: \", arr2.shape)\n",
    "print(arr2, end=\"\\n\\n\")\n",
    "\n",
    "arr３ = np.array([[-1, -2, -3, -4]])\n",
    "\n",
    "print(\"arr３: \", arr３.shape)\n",
    "print(arr３, end=\"\\n\\n\")\n",
    "\n",
    "# 結合\n",
    "print(\"縦方向に結合した配列\")  \n",
    "#.shapeの1つ目の要素の方向について結合するのでaxis=0を指定\n",
    "arr_v = np.concatenate([arr1, arr3], axis=0)\n",
    "print(arr_v)\n",
    "\n",
    "print(\"横方向に結合した配列\")\n",
    "#.shapeの2つ目の要素の方向について結合するのでaxis=1を指定\n",
    "arr_h = np.concatenate([arr1, arr2], axis=1)\n",
    "print(arr_h)\n",
    "\n"
   ]
  },
  {
   "cell_type": "markdown",
   "id": "9330b593-aa24-49ff-af86-7101d2189977",
   "metadata": {},
   "source": [
    "### 配列の計算\n",
    "\n",
    "numpyの`array`は基本的な四則演算はサポートされています。  \n",
    "ただし、あくまで要素ごとの演算であり、内積や外積のような行列演算ではない。 -> 別の関数が用意されている。"
   ]
  },
  {
   "cell_type": "code",
   "execution_count": 5,
   "id": "caacab69-74fd-447e-bde2-6a70efaaff79",
   "metadata": {},
   "outputs": [
    {
     "name": "stdout",
     "output_type": "stream",
     "text": [
      "arr1:  [1 2 3]\n",
      "arr2:  [2 4 6]\n",
      "和:  [3 6 9]\n",
      "差:  [-1 -2 -3]\n",
      "積:  [ 2  8 18]\n",
      "商:  [0.5 0.5 0.5]\n"
     ]
    }
   ],
   "source": [
    "# 計算するための配列の定義\n",
    "arr1 = np.array([1, 2, 3])\n",
    "arr2 = np.array([2, 4, 6])\n",
    "\n",
    "print(\"arr1: \", arr1)\n",
    "print(\"arr2: \", arr2)\n",
    "\n",
    "print(\"和: \", arr1 + arr2)\n",
    "print(\"差: \", arr1 - arr2)\n",
    "print(\"積: \", arr1 * arr2)\n",
    "print(\"商: \", arr1 / arr2)"
   ]
  },
  {
   "cell_type": "markdown",
   "id": "266d16d8-9f06-41cc-83f5-75f2b75ed02e",
   "metadata": {},
   "source": [
    "形が合わないとエラーになりますが、結構柔軟に演算してくれます。  \n",
    "逆に意図しない挙動の元になるので丁寧に確認した方が安全です。"
   ]
  },
  {
   "cell_type": "code",
   "execution_count": 6,
   "id": "51cfa93b-2039-4dd7-950b-9f66d960a6e4",
   "metadata": {},
   "outputs": [
    {
     "name": "stdout",
     "output_type": "stream",
     "text": [
      "これはできない: np.array([1, 2, 3]) + np.array([[2, 3], [5, 6]])\n",
      "Error:  operands could not be broadcast together with shapes (3,) (2,2) \n",
      "\n",
      "1次元配列 + 2次元配列 -> 1 * 3の2次元配列\n",
      "[[2 4 6]]\n",
      "\n",
      "1 * 3 + 3 * 1 -> 3 * 3\n",
      "[[2 3 4]\n",
      " [3 4 5]\n",
      " [4 5 6]]\n",
      "\n",
      "pythonの数値との演算\n",
      "np.array([1, 2, 3]) + 1 =  [2 3 4]\n",
      "\n"
     ]
    }
   ],
   "source": [
    "# 形が違うとエラー\n",
    "try:\n",
    "    print(\"これはできない: np.array([1, 2, 3]) + np.array([[2, 3], [5, 6]])\")\n",
    "    np.array([1, 2, 3]) + np.array([[2, 3], [5, 6]])\n",
    "except Exception as e:\n",
    "    print(\"Error: \", e)\n",
    "print(\"\")\n",
    "\n",
    "# これは大丈夫\n",
    "print(\"1次元配列 + 2次元配列 -> 1 * 3の2次元配列\")\n",
    "print(np.array([1, 2, 3]) + np.array([[1, 2, 3]]))\n",
    "print(\"\")\n",
    "\n",
    "# これも大丈夫\n",
    "print(\"1 * 3 + 3 * 1 -> 3 * 3\")\n",
    "print(np.array([1, 2, 3]).reshape(1, 3) + np.array([1, 2, 3]).reshape(3, 1))\n",
    "print(\"\")\n",
    "\n",
    "# pythonの数値はすべての要素への演算\n",
    "print(\"pythonの数値との演算\")\n",
    "print(\"np.array([1, 2, 3]) + 1 = \", np.array([1, 2, 3]) + 1)\n",
    "print(\"\")"
   ]
  },
  {
   "cell_type": "markdown",
   "id": "1e4f2275-bf54-496b-9fa9-8701c3947afb",
   "metadata": {},
   "source": [
    "### Arrayの参照\n",
    "\n",
    "Pythonの標準のリストはネストしても特定の向きの取得はできない。  \n",
    "numpyのndarrayは多次元行列のような参照ができるようになっている。\n"
   ]
  },
  {
   "cell_type": "code",
   "execution_count": 7,
   "id": "afcf912f-9d29-485f-8398-dac6cfd5a761",
   "metadata": {},
   "outputs": [
    {
     "name": "stdout",
     "output_type": "stream",
     "text": [
      "sample[:, 1] -> [2 5 8]\n",
      "sample[1, :] -> [4 5 6]\n",
      "sample[:2, :2] ->\n",
      " [[1 2]\n",
      " [4 5]]\n"
     ]
    }
   ],
   "source": [
    "# サンプルの配列\n",
    "sample = np.array([\n",
    "    [1, 2, 3],\n",
    "    [4, 5, 6],\n",
    "    [7, 8, 9],\n",
    "])\n",
    "\n",
    "# 列を指定して取得\n",
    "print(\"sample[:, 1] ->\", sample[:, 1])\n",
    "\n",
    "# 行を指定して取得\n",
    "print(\"sample[1, :] ->\", sample[1, :])\n",
    "\n",
    "# 2*2の部分を取得\n",
    "print(\"sample[:2, :2] ->\\n\", sample[:2, :2])"
   ]
  },
  {
   "cell_type": "markdown",
   "id": "075f505b-e0b2-49fd-8c50-1beea5b2d14f",
   "metadata": {},
   "source": [
    "### Arrayの操作\n",
    "`np.concatenate`を利用して、複数のarrayを結合できる.  \n",
    "結合の向きは`axis`変数を利用して制御できる. \n",
    "\n",
    "`axis`の指定と方向の関係は、`.shape`で返却される`tuple`のうち`axis`で指定した値が変化するように結合される.\n",
    "\n",
    "例: (1, 3)と（1, 3）のarrayを結合する.\n",
    "- `axis=0`: 1の部分が結合されるので、(2, 3)のarrayができる. つまり列方向への結合になる\n",
    "- `axis=1`: 3の部分が結合されるので、(1, 6)のarrayができる. つまり行方向への結合になる\n"
   ]
  },
  {
   "cell_type": "code",
   "execution_count": 8,
   "id": "d0abfac5-5ac9-42d5-ba24-082bdf90c0d6",
   "metadata": {},
   "outputs": [
    {
     "name": "stdout",
     "output_type": "stream",
     "text": [
      "結合したい配列\n",
      "[[1 2 3]] (1, 3)\n",
      "[[-1 -2 -3]] (1, 3)\n",
      "axis=0, 列方向\n",
      "[[ 1  2  3]\n",
      " [-1 -2 -3]]\n",
      "axis=1, 行方向\n",
      "[[ 1  2  3 -1 -2 -3]]\n"
     ]
    }
   ],
   "source": [
    "print(\"結合したい配列\")\n",
    "sample1 = np.array([[1, 2, 3]])\n",
    "sample2 = np.array([[-1, -2, -3]])\n",
    "print(sample1, sample1.shape)\n",
    "print(sample2, sample2.shape)\n",
    "\n",
    "# 列方向\n",
    "print(\"axis=0, 列方向\")\n",
    "print(np.concatenate([sample1, sample2], axis=0))\n",
    "\n",
    "# 行方向\n",
    "print(\"axis=1, 行方向\")\n",
    "print(np.concatenate([sample1, sample2], axis=1))"
   ]
  },
  {
   "cell_type": "markdown",
   "id": "66c2b6bb-86e2-4941-988a-ed16b7f2516c",
   "metadata": {},
   "source": [
    "### 統計的な情報の計算\n",
    "\n",
    "行や列など一定の方向に計算を行うことができる.\n",
    "この計算は`axis`引数を用いて計算の方向を制御する.\n",
    "\n",
    "計算の実現方法はndarrayクラスのメソッドとして行う方法と`np`モジュールから行う2種類存在する.\n"
   ]
  },
  {
   "cell_type": "code",
   "execution_count": 9,
   "id": "d76f6659-339a-4d6d-8bcc-c588884c3c48",
   "metadata": {},
   "outputs": [
    {
     "name": "stdout",
     "output_type": "stream",
     "text": [
      "計算対象のArray\n",
      "[[1 2 3]\n",
      " [4 5 6]\n",
      " [7 8 9]]\n",
      "形状:  (3, 3)\n"
     ]
    }
   ],
   "source": [
    "# サンプルの配列\n",
    "sample = np.array([\n",
    "    [1, 2, 3],\n",
    "    [4, 5, 6],\n",
    "    [7, 8, 9],\n",
    "])\n",
    "\n",
    "print(\"計算対象のArray\")\n",
    "print(sample)\n",
    "print(\"形状: \", sample.shape)\n"
   ]
  },
  {
   "cell_type": "code",
   "execution_count": 10,
   "id": "bb455605-e4a1-4818-a19b-32c774365b9c",
   "metadata": {},
   "outputs": [
    {
     "name": "stdout",
     "output_type": "stream",
     "text": [
      "合計: 45\n",
      "最大: 9\n",
      "最小: 1\n",
      "平均: 5.0\n",
      "分散: 6.666666666666667\n",
      "標準偏差: 2.581988897471611\n",
      "中央値（ =50%ile）: 5.0\n"
     ]
    }
   ],
   "source": [
    "# 配列全体の計算\n",
    "print(\"合計:\", sample.sum())\n",
    "print(\"最大:\", sample.max())\n",
    "print(\"最小:\", sample.min())\n",
    "print(\"平均:\", sample.mean())\n",
    "print(\"分散:\", sample.var())\n",
    "print(\"標準偏差:\", sample.std())\n",
    "print(\"中央値（ =50%ile）:\", np.percentile(sample, 50))\n"
   ]
  },
  {
   "cell_type": "markdown",
   "id": "8f5a05d2-c44d-471e-b908-44d881ad264d",
   "metadata": {},
   "source": [
    "- 中央値（`median`）はpercentileの計算として計算する.\n",
    "- `percentile`はarrayのメソッドとしては存在しない.\n",
    "\n",
    "方向を指定したの計算: `axis`を利用して実施する。  \n",
    "`axis`で指定する値については、shapeの戻り値と相関がある。\n",
    "\n",
    "shapeが`(x, y)`のarrayに対して、`axis=n`の計算をすると、`(x, y)[n]`の軸に沿って計算される。\n",
    "\n",
    "例\n",
    "- (4, 5)の配列に対して、`axis=0`で計算すると4個の値が計算され出力配列の形状は`（5,）`になる\n",
    "- (2, 3, 4)の配列に対して、`axis=1`で計算すると3個の値が計算され出力配列の形状は`（2, 4）`になる"
   ]
  },
  {
   "cell_type": "code",
   "execution_count": 11,
   "id": "27252af3-51f2-4fdb-8752-887a70c127b5",
   "metadata": {},
   "outputs": [
    {
     "name": "stdout",
     "output_type": "stream",
     "text": [
      "sample.shape -> (4, 5)\n",
      "[[1. 1. 1. 1. 1.]\n",
      " [1. 1. 1. 1. 1.]\n",
      " [1. 1. 1. 1. 1.]\n",
      " [1. 1. 1. 1. 1.]]\n",
      "[4. 4. 4. 4. 4.]\n",
      "result.shape -> (5,)\n"
     ]
    }
   ],
   "source": [
    "# 例1: \n",
    "sample = np.ones([4, 5])\n",
    "print(\"sample.shape ->\", (4, 5))\n",
    "print(sample)\n",
    "\n",
    "# acis=0で計算\n",
    "result = sample.sum(axis=0)\n",
    "print(result)\n",
    "print(\"result.shape ->\", result.shape)"
   ]
  },
  {
   "cell_type": "code",
   "execution_count": 12,
   "id": "c8fd1c39-9afa-4bb1-89c7-8efcb5e74f84",
   "metadata": {},
   "outputs": [
    {
     "name": "stdout",
     "output_type": "stream",
     "text": [
      "sample.shape -> (2, 3, 4)\n",
      "[[[1. 1. 1. 1.]\n",
      "  [1. 1. 1. 1.]\n",
      "  [1. 1. 1. 1.]]\n",
      "\n",
      " [[1. 1. 1. 1.]\n",
      "  [1. 1. 1. 1.]\n",
      "  [1. 1. 1. 1.]]]\n",
      "\n",
      "sample.sum(axis=1)\n",
      "[[3. 3. 3. 3.]\n",
      " [3. 3. 3. 3.]]\n",
      "result.shape -> (2, 4)\n"
     ]
    }
   ],
   "source": [
    "# 例2: \n",
    "sample = np.ones([2, 3, 4])\n",
    "print(\"sample.shape ->\", (2, 3, 4))\n",
    "print(sample)\n",
    "print(\"\")\n",
    "\n",
    "# acis=0で計算\n",
    "result = sample.sum(axis=1)\n",
    "print(\"sample.sum(axis=1)\")\n",
    "print(result)\n",
    "print(\"result.shape ->\", result.shape)"
   ]
  },
  {
   "cell_type": "markdown",
   "id": "6a048d23-4f5d-4cc2-9490-655255795649",
   "metadata": {},
   "source": [
    "## Pandas\n",
    "Excelのような表計算ライブラリ.   \n",
    "\n",
    "- DataFrame: 行と列がある.\n",
    "- Series: 1列のデータ.辞書のようなもの\n",
    "  \n",
    "の2種類を使ってデータを扱う.\n",
    "numpyと合わせてよく使うが、基本的な計算はpandas側で実装されている。\n",
    "\n",
    "またJupyterLabと連携していてかなり見やすい表示をすることができる.\n",
    "\n",
    "\n",
    "### DataFrameの基本\n",
    "辞書やlist,numpy.ndarrayなどさまざまな形の定義ができる"
   ]
  },
  {
   "cell_type": "code",
   "execution_count": 13,
   "id": "bb7ee568-70b2-429d-9084-2ea6e5b6aabb",
   "metadata": {},
   "outputs": [],
   "source": [
    "import pandas as pd\n",
    "\n",
    "# DataFrame可視化用の関数\n",
    "from IPython.display import display"
   ]
  },
  {
   "cell_type": "code",
   "execution_count": 14,
   "id": "7c5b751a-5c31-4895-b53d-2f00e7967262",
   "metadata": {},
   "outputs": [
    {
     "name": "stdout",
     "output_type": "stream",
     "text": [
      "配列の辞書\n"
     ]
    },
    {
     "data": {
      "text/html": [
       "<div>\n",
       "<style scoped>\n",
       "    .dataframe tbody tr th:only-of-type {\n",
       "        vertical-align: middle;\n",
       "    }\n",
       "\n",
       "    .dataframe tbody tr th {\n",
       "        vertical-align: top;\n",
       "    }\n",
       "\n",
       "    .dataframe thead th {\n",
       "        text-align: right;\n",
       "    }\n",
       "</style>\n",
       "<table border=\"1\" class=\"dataframe\">\n",
       "  <thead>\n",
       "    <tr style=\"text-align: right;\">\n",
       "      <th></th>\n",
       "      <th>col1</th>\n",
       "      <th>col2</th>\n",
       "      <th>col3</th>\n",
       "    </tr>\n",
       "  </thead>\n",
       "  <tbody>\n",
       "    <tr>\n",
       "      <th>0</th>\n",
       "      <td>1</td>\n",
       "      <td>2</td>\n",
       "      <td>3</td>\n",
       "    </tr>\n",
       "    <tr>\n",
       "      <th>1</th>\n",
       "      <td>4</td>\n",
       "      <td>5</td>\n",
       "      <td>6</td>\n",
       "    </tr>\n",
       "    <tr>\n",
       "      <th>2</th>\n",
       "      <td>7</td>\n",
       "      <td>8</td>\n",
       "      <td>9</td>\n",
       "    </tr>\n",
       "  </tbody>\n",
       "</table>\n",
       "</div>"
      ],
      "text/plain": [
       "   col1  col2  col3\n",
       "0     1     2     3\n",
       "1     4     5     6\n",
       "2     7     8     9"
      ]
     },
     "metadata": {},
     "output_type": "display_data"
    },
    {
     "name": "stdout",
     "output_type": "stream",
     "text": [
      "辞書の配列\n"
     ]
    },
    {
     "data": {
      "text/html": [
       "<div>\n",
       "<style scoped>\n",
       "    .dataframe tbody tr th:only-of-type {\n",
       "        vertical-align: middle;\n",
       "    }\n",
       "\n",
       "    .dataframe tbody tr th {\n",
       "        vertical-align: top;\n",
       "    }\n",
       "\n",
       "    .dataframe thead th {\n",
       "        text-align: right;\n",
       "    }\n",
       "</style>\n",
       "<table border=\"1\" class=\"dataframe\">\n",
       "  <thead>\n",
       "    <tr style=\"text-align: right;\">\n",
       "      <th></th>\n",
       "      <th>col1</th>\n",
       "      <th>col2</th>\n",
       "      <th>col3</th>\n",
       "    </tr>\n",
       "  </thead>\n",
       "  <tbody>\n",
       "    <tr>\n",
       "      <th>0</th>\n",
       "      <td>1</td>\n",
       "      <td>2</td>\n",
       "      <td>3</td>\n",
       "    </tr>\n",
       "    <tr>\n",
       "      <th>1</th>\n",
       "      <td>4</td>\n",
       "      <td>5</td>\n",
       "      <td>6</td>\n",
       "    </tr>\n",
       "    <tr>\n",
       "      <th>2</th>\n",
       "      <td>7</td>\n",
       "      <td>8</td>\n",
       "      <td>9</td>\n",
       "    </tr>\n",
       "  </tbody>\n",
       "</table>\n",
       "</div>"
      ],
      "text/plain": [
       "   col1  col2  col3\n",
       "0     1     2     3\n",
       "1     4     5     6\n",
       "2     7     8     9"
      ]
     },
     "metadata": {},
     "output_type": "display_data"
    },
    {
     "name": "stdout",
     "output_type": "stream",
     "text": [
      "listのlist\n"
     ]
    },
    {
     "data": {
      "text/html": [
       "<div>\n",
       "<style scoped>\n",
       "    .dataframe tbody tr th:only-of-type {\n",
       "        vertical-align: middle;\n",
       "    }\n",
       "\n",
       "    .dataframe tbody tr th {\n",
       "        vertical-align: top;\n",
       "    }\n",
       "\n",
       "    .dataframe thead th {\n",
       "        text-align: right;\n",
       "    }\n",
       "</style>\n",
       "<table border=\"1\" class=\"dataframe\">\n",
       "  <thead>\n",
       "    <tr style=\"text-align: right;\">\n",
       "      <th></th>\n",
       "      <th>col1</th>\n",
       "      <th>col2</th>\n",
       "      <th>col3</th>\n",
       "    </tr>\n",
       "  </thead>\n",
       "  <tbody>\n",
       "    <tr>\n",
       "      <th>0</th>\n",
       "      <td>1</td>\n",
       "      <td>2</td>\n",
       "      <td>3</td>\n",
       "    </tr>\n",
       "    <tr>\n",
       "      <th>1</th>\n",
       "      <td>4</td>\n",
       "      <td>5</td>\n",
       "      <td>6</td>\n",
       "    </tr>\n",
       "    <tr>\n",
       "      <th>2</th>\n",
       "      <td>7</td>\n",
       "      <td>8</td>\n",
       "      <td>9</td>\n",
       "    </tr>\n",
       "  </tbody>\n",
       "</table>\n",
       "</div>"
      ],
      "text/plain": [
       "   col1  col2  col3\n",
       "0     1     2     3\n",
       "1     4     5     6\n",
       "2     7     8     9"
      ]
     },
     "metadata": {},
     "output_type": "display_data"
    },
    {
     "name": "stdout",
     "output_type": "stream",
     "text": [
      "numpy.ndarray\n"
     ]
    },
    {
     "data": {
      "text/html": [
       "<div>\n",
       "<style scoped>\n",
       "    .dataframe tbody tr th:only-of-type {\n",
       "        vertical-align: middle;\n",
       "    }\n",
       "\n",
       "    .dataframe tbody tr th {\n",
       "        vertical-align: top;\n",
       "    }\n",
       "\n",
       "    .dataframe thead th {\n",
       "        text-align: right;\n",
       "    }\n",
       "</style>\n",
       "<table border=\"1\" class=\"dataframe\">\n",
       "  <thead>\n",
       "    <tr style=\"text-align: right;\">\n",
       "      <th></th>\n",
       "      <th>col1</th>\n",
       "      <th>col2</th>\n",
       "      <th>col3</th>\n",
       "    </tr>\n",
       "  </thead>\n",
       "  <tbody>\n",
       "    <tr>\n",
       "      <th>0</th>\n",
       "      <td>1</td>\n",
       "      <td>2</td>\n",
       "      <td>3</td>\n",
       "    </tr>\n",
       "    <tr>\n",
       "      <th>1</th>\n",
       "      <td>4</td>\n",
       "      <td>5</td>\n",
       "      <td>6</td>\n",
       "    </tr>\n",
       "    <tr>\n",
       "      <th>2</th>\n",
       "      <td>7</td>\n",
       "      <td>8</td>\n",
       "      <td>9</td>\n",
       "    </tr>\n",
       "  </tbody>\n",
       "</table>\n",
       "</div>"
      ],
      "text/plain": [
       "   col1  col2  col3\n",
       "0     1     2     3\n",
       "1     4     5     6\n",
       "2     7     8     9"
      ]
     },
     "metadata": {},
     "output_type": "display_data"
    }
   ],
   "source": [
    "# 全部同じ\n",
    "print(\"配列の辞書\")\n",
    "df = pd.DataFrame({\n",
    "    \"col1\": [1, 4, 7],\n",
    "    \"col2\": [2, 5, 8],\n",
    "    \"col3\": [3, 6, 9],\n",
    "})\n",
    "display(df)\n",
    "\n",
    "print(\"辞書の配列\")\n",
    "df = pd.DataFrame([\n",
    "    {\"col1\": 1, \"col2\": 2, \"col3\": 3},\n",
    "    {\"col1\": 4, \"col2\": 5, \"col3\": 6},\n",
    "    {\"col1\": 7, \"col2\": 8, \"col3\": 9},\n",
    "])\n",
    "display(df)\n",
    "\n",
    "print(\"listのlist\")\n",
    "df = pd.DataFrame([\n",
    "    [1, 2, 3],\n",
    "    [4, 5, 6],\n",
    "    [7, 8, 9],\n",
    "], columns=[\"col1\", \"col2\", \"col3\"])\n",
    "\n",
    "display(df)\n",
    "\n",
    "print(\"numpy.ndarray\")\n",
    "array = np.array([\n",
    "    [1, 2, 3],\n",
    "    [4, 5, 6],\n",
    "    [7, 8, 9],\n",
    "])\n",
    "df = pd.DataFrame(array, columns=[\"col1\", \"col2\", \"col3\"])\n",
    "\n",
    "display(df)"
   ]
  },
  {
   "cell_type": "markdown",
   "id": "8e1d1706-c4c5-48d7-af21-70a298d618a3",
   "metadata": {},
   "source": [
    "### DataFrameの情報の取得\n",
    "\n",
    "numpyのarrayのような処理は基本的に実装されている。\n",
    "\n",
    "値の管理はnumpyと同様のインデックス番号による管理に加えて、インデックス名とカラム名での管理方法もある。  \n",
    "どちらを利用しても値を取得することができる。\n",
    "\n",
    "- インデックスの取得: `.iloc[x:, y]`\n",
    "- インデックス名とカラム名の取得: `.loc[x:, y]`\n",
    "\n",
    "どのようなインデックス名、カラム名が設定されているかは、`df.index`と`df.columns`で確認できる。"
   ]
  },
  {
   "cell_type": "code",
   "execution_count": 15,
   "id": "90f5d525-2d5b-4f7f-913a-9887db64b47c",
   "metadata": {},
   "outputs": [
    {
     "name": "stdout",
     "output_type": "stream",
     "text": [
      "データ\n"
     ]
    },
    {
     "data": {
      "text/html": [
       "<div>\n",
       "<style scoped>\n",
       "    .dataframe tbody tr th:only-of-type {\n",
       "        vertical-align: middle;\n",
       "    }\n",
       "\n",
       "    .dataframe tbody tr th {\n",
       "        vertical-align: top;\n",
       "    }\n",
       "\n",
       "    .dataframe thead th {\n",
       "        text-align: right;\n",
       "    }\n",
       "</style>\n",
       "<table border=\"1\" class=\"dataframe\">\n",
       "  <thead>\n",
       "    <tr style=\"text-align: right;\">\n",
       "      <th></th>\n",
       "      <th>col1</th>\n",
       "      <th>col2</th>\n",
       "      <th>col3</th>\n",
       "    </tr>\n",
       "  </thead>\n",
       "  <tbody>\n",
       "    <tr>\n",
       "      <th>a</th>\n",
       "      <td>1</td>\n",
       "      <td>2</td>\n",
       "      <td>3</td>\n",
       "    </tr>\n",
       "    <tr>\n",
       "      <th>b</th>\n",
       "      <td>4</td>\n",
       "      <td>5</td>\n",
       "      <td>6</td>\n",
       "    </tr>\n",
       "    <tr>\n",
       "      <th>c</th>\n",
       "      <td>7</td>\n",
       "      <td>8</td>\n",
       "      <td>9</td>\n",
       "    </tr>\n",
       "  </tbody>\n",
       "</table>\n",
       "</div>"
      ],
      "text/plain": [
       "   col1  col2  col3\n",
       "a     1     2     3\n",
       "b     4     5     6\n",
       "c     7     8     9"
      ]
     },
     "metadata": {},
     "output_type": "display_data"
    },
    {
     "name": "stdout",
     "output_type": "stream",
     "text": [
      "インデックス名: Index(['a', 'b', 'c'], dtype='object')\n",
      "カラム名: Index(['col1', 'col2', 'col3'], dtype='object')\n",
      "\n",
      "Numpyと同じような属性を取得できる\n",
      "df.shape: (3, 3)\n",
      "df.size: 9\n"
     ]
    }
   ],
   "source": [
    "df = pd.DataFrame({\n",
    "    \"col1\": [1, 4, 7],\n",
    "    \"col2\": [2, 5, 8],\n",
    "    \"col3\": [3, 6, 9],\n",
    "}, index=[\"a\", \"b\", \"c\"])\n",
    "print(\"データ\")\n",
    "display(df)\n",
    "print(\"インデックス名:\", df.index)\n",
    "print(\"カラム名:\", df.columns)\n",
    "print(\"\")\n",
    "\n",
    "\n",
    "print(\"Numpyと同じような属性を取得できる\")\n",
    "print(\"df.shape:\", df.shape)\n",
    "print(\"df.size:\", df.size)"
   ]
  },
  {
   "cell_type": "markdown",
   "id": "a19cb249-8eb8-4e23-8c66-61d2b0f529e8",
   "metadata": {},
   "source": [
    "### 値の参照"
   ]
  },
  {
   "cell_type": "code",
   "execution_count": 16,
   "id": "6f35ec49-98f2-438e-98f8-050412aa40aa",
   "metadata": {},
   "outputs": [
    {
     "name": "stdout",
     "output_type": "stream",
     "text": [
      "numpyのようなインデックス番号での参照\n",
      "df.iloc[0, 0]:\n"
     ]
    },
    {
     "data": {
      "text/plain": [
       "1"
      ]
     },
     "metadata": {},
     "output_type": "display_data"
    },
    {
     "name": "stdout",
     "output_type": "stream",
     "text": [
      "df.iloc[0:2, 0]:\n"
     ]
    },
    {
     "data": {
      "text/plain": [
       "a    1\n",
       "b    4\n",
       "Name: col1, dtype: int64"
      ]
     },
     "metadata": {},
     "output_type": "display_data"
    },
    {
     "name": "stdout",
     "output_type": "stream",
     "text": [
      "\n",
      "カラム名インデックス名での参照\n",
      "df.loc['a', 'col1']:\n"
     ]
    },
    {
     "data": {
      "text/plain": [
       "1"
      ]
     },
     "metadata": {},
     "output_type": "display_data"
    },
    {
     "name": "stdout",
     "output_type": "stream",
     "text": [
      "df.iloc[['a', 'b'], 'col1']:\n"
     ]
    },
    {
     "data": {
      "text/plain": [
       "a    1\n",
       "b    4\n",
       "Name: col1, dtype: int64"
      ]
     },
     "metadata": {},
     "output_type": "display_data"
    }
   ],
   "source": [
    "print(\"numpyのようなインデックス番号での参照\")\n",
    "print(\"df.iloc[0, 0]:\")\n",
    "display(df.iloc[0, 0])\n",
    "print(\"df.iloc[0:2, 0]:\")\n",
    "display(df.iloc[0:2, 0])\n",
    "print(\"\")\n",
    "\n",
    "print(\"カラム名インデックス名での参照\")\n",
    "print(\"df.loc['a', 'col1']:\")\n",
    "display(df.loc['a', 'col1'])\n",
    "print(\"df.iloc[['a', 'b'], 'col1']:\")\n",
    "display(df.loc[['a', 'b'], 'col1'])"
   ]
  },
  {
   "cell_type": "markdown",
   "id": "f2af53c0-8d0c-4408-812d-709aea5a5afd",
   "metadata": {},
   "source": [
    "### 統計的な情報の計算\n",
    "\n",
    "行や列など一定の方向に計算を行うことができる.\n",
    "この計算は`axis`引数を用いて計算の方向を制御する.\n",
    "\n",
    "計算の実現方法は基本的には`DataFrame`のメソッドとして行う。\n"
   ]
  },
  {
   "cell_type": "code",
   "execution_count": 17,
   "id": "7797b023-f2d3-4450-b06a-69cabcbd4067",
   "metadata": {},
   "outputs": [
    {
     "name": "stdout",
     "output_type": "stream",
     "text": [
      "合計:\n",
      " col1    12\n",
      "col2    15\n",
      "col3    18\n",
      "dtype: int64\n",
      "最大:\n",
      " col1    7\n",
      "col2    8\n",
      "col3    9\n",
      "dtype: int64\n",
      "最小:\n",
      " col1    1\n",
      "col2    2\n",
      "col3    3\n",
      "dtype: int64\n",
      "平均:\n",
      " col1    4.0\n",
      "col2    5.0\n",
      "col3    6.0\n",
      "dtype: float64\n",
      "分散:\n",
      " col1    9.0\n",
      "col2    9.0\n",
      "col3    9.0\n",
      "dtype: float64\n",
      "標準偏差:\n",
      " col1    3.0\n",
      "col2    3.0\n",
      "col3    3.0\n",
      "dtype: float64\n",
      "中央値（ =50%ile）:\n",
      " col1    4.0\n",
      "col2    5.0\n",
      "col3    6.0\n",
      "dtype: float64\n"
     ]
    }
   ],
   "source": [
    "df = pd.DataFrame({\n",
    "    \"col1\": [1, 4, 7],\n",
    "    \"col2\": [2, 5, 8],\n",
    "    \"col3\": [3, 6, 9],\n",
    "}, index=[\"a\", \"b\", \"c\"])\n",
    "\n",
    "# 配列全体の計算\n",
    "print(\"合計:\\n\", df.sum())\n",
    "print(\"最大:\\n\", df.max())\n",
    "print(\"最小:\\n\", df.min())\n",
    "print(\"平均:\\n\", df.mean())\n",
    "print(\"分散:\\n\", df.var())\n",
    "print(\"標準偏差:\\n\", df.std())\n",
    "print(\"中央値（ =50%ile）:\\n\", df.median())\n"
   ]
  },
  {
   "cell_type": "markdown",
   "id": "0f9abba9-4c69-4c0c-8ee9-efe472c5b103",
   "metadata": {},
   "source": [
    "numpyと違い、pandasはデフォルトでは列に沿った集計を行う.つまりデフォルトは`axis=0`の演算\n",
    "\n",
    "numpyのような全体を集計したい場合、`.values`属性を利用してnumpyに変換して計算するか、  \n",
    "~~`axis=None`を指定する。~~ <- pandasバージョン2.0で出なくなったらしい\n"
   ]
  },
  {
   "cell_type": "code",
   "execution_count": 30,
   "id": "62a5a7ed-ab89-494e-98a4-9b526275fc6b",
   "metadata": {},
   "outputs": [
    {
     "name": "stdout",
     "output_type": "stream",
     "text": [
      "numpy: 45\n",
      "pandas: col1    12\n",
      "col2    15\n",
      "col3    18\n",
      "dtype: int64\n",
      "pandas axis=0: col1    12\n",
      "col2    15\n",
      "col3    18\n",
      "dtype: int64\n",
      "45\n"
     ]
    }
   ],
   "source": [
    "arr = np.array([[1, 2, 3], [4, 5, 6], [7, 8, 9]])\n",
    "df = pd.DataFrame(arr, columns=[\"col1\", \"col2\", \"col3\"])\n",
    "\n",
    "# 合計を計算\n",
    "print(\"numpy:\", arr.sum())\n",
    "print(\"pandas:\", df.sum())\n",
    "print(\"pandas axis=0:\", df.sum(axis=0))\n",
    "\n",
    "# Numpyのデフォルトの演算を再現する\n",
    "print(df.values.sum())"
   ]
  },
  {
   "cell_type": "markdown",
   "id": "fdb900eb-c2b5-4a76-9c7a-ef9d096a474f",
   "metadata": {},
   "source": [
    "#### describe\n",
    "pandasには`describe`という関数があり、基本的な統計量を計算してくれる関数がある。\n",
    "\n",
    "デフォルトでは数値カラムについて以下の統計量を計算する\n",
    "\n",
    "- 数\n",
    "- 平均\n",
    "- 標準偏差\n",
    "- 最小\n",
    "- 四分位数\n",
    "- 最大\n",
    "\n",
    "includeを利用することで文字列についても実行できる。  \n",
    "文字列の場合、出力される情報が変わる\n",
    "\n",
    "- 数\n",
    "- ユニーク数\n",
    "- 最頻値\n",
    "- 最頻値の出現回数"
   ]
  },
  {
   "cell_type": "code",
   "execution_count": 36,
   "id": "e5ae5e46-317a-4609-8f32-25a4c0399fff",
   "metadata": {},
   "outputs": [
    {
     "name": "stdout",
     "output_type": "stream",
     "text": [
      "統計量の表示\n"
     ]
    },
    {
     "data": {
      "text/html": [
       "<div>\n",
       "<style scoped>\n",
       "    .dataframe tbody tr th:only-of-type {\n",
       "        vertical-align: middle;\n",
       "    }\n",
       "\n",
       "    .dataframe tbody tr th {\n",
       "        vertical-align: top;\n",
       "    }\n",
       "\n",
       "    .dataframe thead th {\n",
       "        text-align: right;\n",
       "    }\n",
       "</style>\n",
       "<table border=\"1\" class=\"dataframe\">\n",
       "  <thead>\n",
       "    <tr style=\"text-align: right;\">\n",
       "      <th></th>\n",
       "      <th>col1</th>\n",
       "      <th>col2</th>\n",
       "    </tr>\n",
       "  </thead>\n",
       "  <tbody>\n",
       "    <tr>\n",
       "      <th>count</th>\n",
       "      <td>5.000000</td>\n",
       "      <td>5.000000</td>\n",
       "    </tr>\n",
       "    <tr>\n",
       "      <th>mean</th>\n",
       "      <td>3.000000</td>\n",
       "      <td>-1.300000</td>\n",
       "    </tr>\n",
       "    <tr>\n",
       "      <th>std</th>\n",
       "      <td>1.581139</td>\n",
       "      <td>3.737646</td>\n",
       "    </tr>\n",
       "    <tr>\n",
       "      <th>min</th>\n",
       "      <td>1.000000</td>\n",
       "      <td>-5.000000</td>\n",
       "    </tr>\n",
       "    <tr>\n",
       "      <th>25%</th>\n",
       "      <td>2.000000</td>\n",
       "      <td>-4.500000</td>\n",
       "    </tr>\n",
       "    <tr>\n",
       "      <th>50%</th>\n",
       "      <td>3.000000</td>\n",
       "      <td>-1.200000</td>\n",
       "    </tr>\n",
       "    <tr>\n",
       "      <th>75%</th>\n",
       "      <td>4.000000</td>\n",
       "      <td>0.000000</td>\n",
       "    </tr>\n",
       "    <tr>\n",
       "      <th>max</th>\n",
       "      <td>5.000000</td>\n",
       "      <td>4.200000</td>\n",
       "    </tr>\n",
       "  </tbody>\n",
       "</table>\n",
       "</div>"
      ],
      "text/plain": [
       "           col1      col2\n",
       "count  5.000000  5.000000\n",
       "mean   3.000000 -1.300000\n",
       "std    1.581139  3.737646\n",
       "min    1.000000 -5.000000\n",
       "25%    2.000000 -4.500000\n",
       "50%    3.000000 -1.200000\n",
       "75%    4.000000  0.000000\n",
       "max    5.000000  4.200000"
      ]
     },
     "metadata": {},
     "output_type": "display_data"
    },
    {
     "name": "stdout",
     "output_type": "stream",
     "text": [
      "文字列カラムもできる\n"
     ]
    },
    {
     "data": {
      "text/html": [
       "<div>\n",
       "<style scoped>\n",
       "    .dataframe tbody tr th:only-of-type {\n",
       "        vertical-align: middle;\n",
       "    }\n",
       "\n",
       "    .dataframe tbody tr th {\n",
       "        vertical-align: top;\n",
       "    }\n",
       "\n",
       "    .dataframe thead th {\n",
       "        text-align: right;\n",
       "    }\n",
       "</style>\n",
       "<table border=\"1\" class=\"dataframe\">\n",
       "  <thead>\n",
       "    <tr style=\"text-align: right;\">\n",
       "      <th></th>\n",
       "      <th>col3</th>\n",
       "    </tr>\n",
       "  </thead>\n",
       "  <tbody>\n",
       "    <tr>\n",
       "      <th>count</th>\n",
       "      <td>5</td>\n",
       "    </tr>\n",
       "    <tr>\n",
       "      <th>unique</th>\n",
       "      <td>4</td>\n",
       "    </tr>\n",
       "    <tr>\n",
       "      <th>top</th>\n",
       "      <td>c</td>\n",
       "    </tr>\n",
       "    <tr>\n",
       "      <th>freq</th>\n",
       "      <td>2</td>\n",
       "    </tr>\n",
       "  </tbody>\n",
       "</table>\n",
       "</div>"
      ],
      "text/plain": [
       "       col3\n",
       "count     5\n",
       "unique    4\n",
       "top       c\n",
       "freq      2"
      ]
     },
     "metadata": {},
     "output_type": "display_data"
    }
   ],
   "source": [
    "sample = pd.DataFrame({\n",
    "    \"col1\": [1, 2, 3 ,4 ,5],\n",
    "    \"col2\": [-5, -1.2, 4.2, -4.5, 0],\n",
    "    \"col3\": [\"a\", \"b\", \"c\", \"d\", \"c\"],\n",
    "})\n",
    "\n",
    "print(\"統計量の表示\")\n",
    "display(sample.describe())\n",
    "\n",
    "print(\"文字列カラムもできる\")\n",
    "display(sample.describe(include=[\"object\"]))"
   ]
  },
  {
   "cell_type": "markdown",
   "id": "56363b19-fa37-4224-aa04-9de4905b3f8d",
   "metadata": {},
   "source": [
    "### 欠損地の取り扱い\n",
    "\n",
    "`fillna`, `dropna`を使ってデータに含まれる欠損値に対して処理を適用できる。\n",
    "\n",
    "- `fillna`: 欠損値を特定の値で埋める\n",
    "- `dropna`: 欠損値を含むデータを消す\n",
    "\n",
    "#### 欠損値を埋める"
   ]
  },
  {
   "cell_type": "code",
   "execution_count": 37,
   "id": "9ee2a3be-e643-4fa6-99d9-b7e27b56b8a8",
   "metadata": {},
   "outputs": [
    {
     "name": "stdout",
     "output_type": "stream",
     "text": [
      "元のデータ\n"
     ]
    },
    {
     "data": {
      "text/html": [
       "<div>\n",
       "<style scoped>\n",
       "    .dataframe tbody tr th:only-of-type {\n",
       "        vertical-align: middle;\n",
       "    }\n",
       "\n",
       "    .dataframe tbody tr th {\n",
       "        vertical-align: top;\n",
       "    }\n",
       "\n",
       "    .dataframe thead th {\n",
       "        text-align: right;\n",
       "    }\n",
       "</style>\n",
       "<table border=\"1\" class=\"dataframe\">\n",
       "  <thead>\n",
       "    <tr style=\"text-align: right;\">\n",
       "      <th></th>\n",
       "      <th>A</th>\n",
       "      <th>B</th>\n",
       "    </tr>\n",
       "  </thead>\n",
       "  <tbody>\n",
       "    <tr>\n",
       "      <th>0</th>\n",
       "      <td>1.0</td>\n",
       "      <td>a</td>\n",
       "    </tr>\n",
       "    <tr>\n",
       "      <th>1</th>\n",
       "      <td>2.0</td>\n",
       "      <td>b</td>\n",
       "    </tr>\n",
       "    <tr>\n",
       "      <th>2</th>\n",
       "      <td>NaN</td>\n",
       "      <td>c</td>\n",
       "    </tr>\n",
       "    <tr>\n",
       "      <th>3</th>\n",
       "      <td>4.0</td>\n",
       "      <td>None</td>\n",
       "    </tr>\n",
       "  </tbody>\n",
       "</table>\n",
       "</div>"
      ],
      "text/plain": [
       "     A     B\n",
       "0  1.0     a\n",
       "1  2.0     b\n",
       "2  NaN     c\n",
       "3  4.0  None"
      ]
     },
     "metadata": {},
     "output_type": "display_data"
    },
    {
     "name": "stdout",
     "output_type": "stream",
     "text": [
      "欠損値を埋めた後のデータ\n"
     ]
    },
    {
     "data": {
      "text/html": [
       "<div>\n",
       "<style scoped>\n",
       "    .dataframe tbody tr th:only-of-type {\n",
       "        vertical-align: middle;\n",
       "    }\n",
       "\n",
       "    .dataframe tbody tr th {\n",
       "        vertical-align: top;\n",
       "    }\n",
       "\n",
       "    .dataframe thead th {\n",
       "        text-align: right;\n",
       "    }\n",
       "</style>\n",
       "<table border=\"1\" class=\"dataframe\">\n",
       "  <thead>\n",
       "    <tr style=\"text-align: right;\">\n",
       "      <th></th>\n",
       "      <th>A</th>\n",
       "      <th>B</th>\n",
       "    </tr>\n",
       "  </thead>\n",
       "  <tbody>\n",
       "    <tr>\n",
       "      <th>0</th>\n",
       "      <td>1.000000</td>\n",
       "      <td>a</td>\n",
       "    </tr>\n",
       "    <tr>\n",
       "      <th>1</th>\n",
       "      <td>2.000000</td>\n",
       "      <td>b</td>\n",
       "    </tr>\n",
       "    <tr>\n",
       "      <th>2</th>\n",
       "      <td>2.333333</td>\n",
       "      <td>c</td>\n",
       "    </tr>\n",
       "    <tr>\n",
       "      <th>3</th>\n",
       "      <td>4.000000</td>\n",
       "      <td>unknown</td>\n",
       "    </tr>\n",
       "  </tbody>\n",
       "</table>\n",
       "</div>"
      ],
      "text/plain": [
       "          A        B\n",
       "0  1.000000        a\n",
       "1  2.000000        b\n",
       "2  2.333333        c\n",
       "3  4.000000  unknown"
      ]
     },
     "metadata": {},
     "output_type": "display_data"
    }
   ],
   "source": [
    "# サンプルデータフレームを作成\n",
    "df = pd.DataFrame({\n",
    "    \"A\": [1, 2, None, 4],\n",
    "    \"B\": [\"a\", \"b\", \"c\", None]\n",
    "})\n",
    "print(\"元のデータ\")\n",
    "display(df)\n",
    "\n",
    "\n",
    "# A列の欠損値を列の平均値で補完\n",
    "df[\"A\"] = df[\"A\"].fillna(df[\"A\"].mean())\n",
    "\n",
    "# B列の欠損値を文字列 'unknown' で補完\n",
    "df[\"B\"] = df[\"B\"].fillna(\"unknown\")\n",
    "\n",
    "print(\"欠損値を埋めた後のデータ\")\n",
    "display(df)"
   ]
  },
  {
   "cell_type": "markdown",
   "id": "043db25f-f324-479f-9179-82192a623a79",
   "metadata": {},
   "source": [
    "#### 欠損値を削る"
   ]
  },
  {
   "cell_type": "code",
   "execution_count": 41,
   "id": "91d08805-f489-42db-8174-89c579b09f7e",
   "metadata": {},
   "outputs": [
    {
     "name": "stdout",
     "output_type": "stream",
     "text": [
      "元のデータ\n"
     ]
    },
    {
     "data": {
      "text/html": [
       "<div>\n",
       "<style scoped>\n",
       "    .dataframe tbody tr th:only-of-type {\n",
       "        vertical-align: middle;\n",
       "    }\n",
       "\n",
       "    .dataframe tbody tr th {\n",
       "        vertical-align: top;\n",
       "    }\n",
       "\n",
       "    .dataframe thead th {\n",
       "        text-align: right;\n",
       "    }\n",
       "</style>\n",
       "<table border=\"1\" class=\"dataframe\">\n",
       "  <thead>\n",
       "    <tr style=\"text-align: right;\">\n",
       "      <th></th>\n",
       "      <th>A</th>\n",
       "      <th>B</th>\n",
       "    </tr>\n",
       "  </thead>\n",
       "  <tbody>\n",
       "    <tr>\n",
       "      <th>0</th>\n",
       "      <td>1.0</td>\n",
       "      <td>a</td>\n",
       "    </tr>\n",
       "    <tr>\n",
       "      <th>1</th>\n",
       "      <td>2.0</td>\n",
       "      <td>b</td>\n",
       "    </tr>\n",
       "    <tr>\n",
       "      <th>2</th>\n",
       "      <td>NaN</td>\n",
       "      <td>c</td>\n",
       "    </tr>\n",
       "    <tr>\n",
       "      <th>3</th>\n",
       "      <td>4.0</td>\n",
       "      <td>None</td>\n",
       "    </tr>\n",
       "  </tbody>\n",
       "</table>\n",
       "</div>"
      ],
      "text/plain": [
       "     A     B\n",
       "0  1.0     a\n",
       "1  2.0     b\n",
       "2  NaN     c\n",
       "3  4.0  None"
      ]
     },
     "metadata": {},
     "output_type": "display_data"
    },
    {
     "name": "stdout",
     "output_type": "stream",
     "text": [
      "欠損値を含むレコードを削除する\n"
     ]
    },
    {
     "data": {
      "text/html": [
       "<div>\n",
       "<style scoped>\n",
       "    .dataframe tbody tr th:only-of-type {\n",
       "        vertical-align: middle;\n",
       "    }\n",
       "\n",
       "    .dataframe tbody tr th {\n",
       "        vertical-align: top;\n",
       "    }\n",
       "\n",
       "    .dataframe thead th {\n",
       "        text-align: right;\n",
       "    }\n",
       "</style>\n",
       "<table border=\"1\" class=\"dataframe\">\n",
       "  <thead>\n",
       "    <tr style=\"text-align: right;\">\n",
       "      <th></th>\n",
       "      <th>A</th>\n",
       "      <th>B</th>\n",
       "    </tr>\n",
       "  </thead>\n",
       "  <tbody>\n",
       "    <tr>\n",
       "      <th>0</th>\n",
       "      <td>1.0</td>\n",
       "      <td>a</td>\n",
       "    </tr>\n",
       "    <tr>\n",
       "      <th>1</th>\n",
       "      <td>2.0</td>\n",
       "      <td>b</td>\n",
       "    </tr>\n",
       "  </tbody>\n",
       "</table>\n",
       "</div>"
      ],
      "text/plain": [
       "     A  B\n",
       "0  1.0  a\n",
       "1  2.0  b"
      ]
     },
     "metadata": {},
     "output_type": "display_data"
    },
    {
     "name": "stdout",
     "output_type": "stream",
     "text": [
      "欠損値を含む列を削除する\n"
     ]
    },
    {
     "data": {
      "text/html": [
       "<div>\n",
       "<style scoped>\n",
       "    .dataframe tbody tr th:only-of-type {\n",
       "        vertical-align: middle;\n",
       "    }\n",
       "\n",
       "    .dataframe tbody tr th {\n",
       "        vertical-align: top;\n",
       "    }\n",
       "\n",
       "    .dataframe thead th {\n",
       "        text-align: right;\n",
       "    }\n",
       "</style>\n",
       "<table border=\"1\" class=\"dataframe\">\n",
       "  <thead>\n",
       "    <tr style=\"text-align: right;\">\n",
       "      <th></th>\n",
       "    </tr>\n",
       "  </thead>\n",
       "  <tbody>\n",
       "    <tr>\n",
       "      <th>0</th>\n",
       "    </tr>\n",
       "    <tr>\n",
       "      <th>1</th>\n",
       "    </tr>\n",
       "    <tr>\n",
       "      <th>2</th>\n",
       "    </tr>\n",
       "    <tr>\n",
       "      <th>3</th>\n",
       "    </tr>\n",
       "  </tbody>\n",
       "</table>\n",
       "</div>"
      ],
      "text/plain": [
       "Empty DataFrame\n",
       "Columns: []\n",
       "Index: [0, 1, 2, 3]"
      ]
     },
     "metadata": {},
     "output_type": "display_data"
    }
   ],
   "source": [
    "# サンプルデータフレームを作成\n",
    "df = pd.DataFrame({\n",
    "    \"A\": [1, 2, None, 4],\n",
    "    \"B\": [\"a\", \"b\", \"c\", None]\n",
    "})\n",
    "print(\"元のデータ\")\n",
    "display(df)\n",
    "\n",
    "print(\"欠損値を含むレコードを削除する\")\n",
    "display(df.dropna())\n",
    "\n",
    "# axisを指定することで欠損値を含む列を削除することもできる\n",
    "# 今回のケースでは列がなくなる\n",
    "print(\"欠損値を含む列を削除する\")\n",
    "display(df.dropna(axis=1))\n"
   ]
  },
  {
   "cell_type": "markdown",
   "id": "18a3191d-7227-4726-b5ec-540cb45e3393",
   "metadata": {},
   "source": [
    "### 値の抽出(フィルタリング)\n",
    "\n",
    "似たような機能は`numpy`にも存在する.  \n",
    "ただpandasの木の王に比べて使い勝手が悪い.\n",
    "\n",
    "データ処理をするときも基本インデックスやカラムを外すことはないと思うので、Pandasの機能として紹介する.\n",
    "\n",
    "行と同じサイズの`bool`型の配列を与えることで、レコードごとにフィルタリングを行うことができる.\n",
    "\n",
    "行と同じサイズの`bool`型の配列は`DataFrame`の列に対して比較演算子を適用することで実現できる.   \n",
    "例: `df[\"a\"] >= 1`はdfのカラム\"a\"が1以上\n",
    "\n",
    "**注意事項**  \n",
    "一次元の配列である必要がある. pandasで言うと`df[\"a\"]`はSeriesが返却され1次元の配列であるが、`df[[\"a\"]]`はDataFrameが返却され2次元配列になる."
   ]
  },
  {
   "cell_type": "code",
   "execution_count": 57,
   "id": "63605404-ff74-4bc0-86b1-0acaf08c0ad6",
   "metadata": {},
   "outputs": [
    {
     "name": "stdout",
     "output_type": "stream",
     "text": [
      "col1が3以上のレコード\n"
     ]
    },
    {
     "data": {
      "text/html": [
       "<div>\n",
       "<style scoped>\n",
       "    .dataframe tbody tr th:only-of-type {\n",
       "        vertical-align: middle;\n",
       "    }\n",
       "\n",
       "    .dataframe tbody tr th {\n",
       "        vertical-align: top;\n",
       "    }\n",
       "\n",
       "    .dataframe thead th {\n",
       "        text-align: right;\n",
       "    }\n",
       "</style>\n",
       "<table border=\"1\" class=\"dataframe\">\n",
       "  <thead>\n",
       "    <tr style=\"text-align: right;\">\n",
       "      <th></th>\n",
       "      <th>col1</th>\n",
       "      <th>col2</th>\n",
       "      <th>col3</th>\n",
       "    </tr>\n",
       "  </thead>\n",
       "  <tbody>\n",
       "    <tr>\n",
       "      <th>2</th>\n",
       "      <td>3</td>\n",
       "      <td>4.2</td>\n",
       "      <td>c</td>\n",
       "    </tr>\n",
       "    <tr>\n",
       "      <th>3</th>\n",
       "      <td>4</td>\n",
       "      <td>-4.5</td>\n",
       "      <td>d</td>\n",
       "    </tr>\n",
       "    <tr>\n",
       "      <th>4</th>\n",
       "      <td>5</td>\n",
       "      <td>0.0</td>\n",
       "      <td>c</td>\n",
       "    </tr>\n",
       "  </tbody>\n",
       "</table>\n",
       "</div>"
      ],
      "text/plain": [
       "   col1  col2 col3\n",
       "2     3   4.2    c\n",
       "3     4  -4.5    d\n",
       "4     5   0.0    c"
      ]
     },
     "metadata": {},
     "output_type": "display_data"
    },
    {
     "name": "stdout",
     "output_type": "stream",
     "text": [
      "col3が'c'のレコード\n"
     ]
    },
    {
     "data": {
      "text/html": [
       "<div>\n",
       "<style scoped>\n",
       "    .dataframe tbody tr th:only-of-type {\n",
       "        vertical-align: middle;\n",
       "    }\n",
       "\n",
       "    .dataframe tbody tr th {\n",
       "        vertical-align: top;\n",
       "    }\n",
       "\n",
       "    .dataframe thead th {\n",
       "        text-align: right;\n",
       "    }\n",
       "</style>\n",
       "<table border=\"1\" class=\"dataframe\">\n",
       "  <thead>\n",
       "    <tr style=\"text-align: right;\">\n",
       "      <th></th>\n",
       "      <th>col1</th>\n",
       "      <th>col2</th>\n",
       "      <th>col3</th>\n",
       "    </tr>\n",
       "  </thead>\n",
       "  <tbody>\n",
       "    <tr>\n",
       "      <th>2</th>\n",
       "      <td>3</td>\n",
       "      <td>4.2</td>\n",
       "      <td>c</td>\n",
       "    </tr>\n",
       "    <tr>\n",
       "      <th>4</th>\n",
       "      <td>5</td>\n",
       "      <td>0.0</td>\n",
       "      <td>c</td>\n",
       "    </tr>\n",
       "  </tbody>\n",
       "</table>\n",
       "</div>"
      ],
      "text/plain": [
       "   col1  col2 col3\n",
       "2     3   4.2    c\n",
       "4     5   0.0    c"
      ]
     },
     "metadata": {},
     "output_type": "display_data"
    }
   ],
   "source": [
    "sample = pd.DataFrame({\n",
    "    \"col1\": [1, 2, 3 ,4 ,5],\n",
    "    \"col2\": [-5, -1.2, 4.2, -4.5, 0],\n",
    "    \"col3\": [\"a\", \"b\", \"c\", \"d\", \"c\"],\n",
    "})\n",
    "\n",
    "print(\"col1が3以上のレコード\")\n",
    "display(sample[sample[\"col1\"] >= 3])\n",
    "\n",
    "print(\"col3が'c'のレコード\")\n",
    "display(sample[sample[\"col3\"] == \"c\"])"
   ]
  },
  {
   "cell_type": "code",
   "execution_count": null,
   "id": "0282ab74-3808-4b08-8d49-e7efc12ab2d3",
   "metadata": {},
   "outputs": [],
   "source": []
  }
 ],
 "metadata": {
  "kernelspec": {
   "display_name": "Python 3 (ipykernel)",
   "language": "python",
   "name": "python3"
  },
  "language_info": {
   "codemirror_mode": {
    "name": "ipython",
    "version": 3
   },
   "file_extension": ".py",
   "mimetype": "text/x-python",
   "name": "python",
   "nbconvert_exporter": "python",
   "pygments_lexer": "ipython3",
   "version": "3.11.6"
  }
 },
 "nbformat": 4,
 "nbformat_minor": 5
}
