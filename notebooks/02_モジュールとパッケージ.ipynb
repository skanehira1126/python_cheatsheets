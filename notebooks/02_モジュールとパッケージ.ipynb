{
 "cells": [
  {
   "cell_type": "markdown",
   "id": "0a2b7285-22e6-43ea-a36a-beea73ddc650",
   "metadata": {},
   "source": [
    "# 関数とモジュール\n",
    "\n",
    "## セクション1: 関数\n",
    "Pythonでは`def`を使って関数を定義できます。\n",
    "関数によって、コードの再利用を簡単にできるようになります。  \n",
    "また、決まったまとめることで、コード全体の処理の見通しが良くなります。\n",
    "\n",
    "### 関数の定義と呼び出し\n",
    "\n",
    "関数は以下のような構造で構成されています。\n",
    "\n",
    "引数ごとの型とdocstringは処理に影響を与えないので必須ではありません。\n",
    "ただし、書くことでその関数がどういう意図で作られたかを記載でき、コードを見返したときや別の人がコードの処理を確認するタイミングでの可読性が向上します。\n",
    "\n",
    "```python\n",
    "def 関数名(引数1: 引数1の型, 引数2: 引数2):\n",
    "    \"\"\"\n",
    "    関数についての説明(docstring)\n",
    "    \"\"\"\n",
    "\n",
    "    # 関数の処理\n",
    "    ... \n",
    "\n",
    "    # 処理結果の返却\n",
    "    return output\n",
    "```\n"
   ]
  },
  {
   "cell_type": "code",
   "execution_count": 1,
   "id": "fb64b072-0ffd-4599-b0d4-3ea7834c6825",
   "metadata": {},
   "outputs": [
    {
     "name": "stdout",
     "output_type": "stream",
     "text": [
      "Hello, Alice!\n",
      "Hello, Bob!\n",
      "Hello, Charlie!\n"
     ]
    }
   ],
   "source": [
    "# 関数の定義\n",
    "def greet(name):\n",
    "    \"\"\"\n",
    "    指定した名前に挨拶を返す関数\n",
    "\n",
    "    Parameters\n",
    "    ----------\n",
    "    name: str\n",
    "        挨拶をする相手の名前\n",
    "    \"\"\"\n",
    "\n",
    "    # 挨拶文の作成\n",
    "    # 文字列は + で結合できる\n",
    "    greeting_text = \"Hello, \" + name + \"!\"\n",
    "\n",
    "    return greeting_text\n",
    "\n",
    "# 関数を呼び出す\n",
    "print(greet(\"Alice\"))\n",
    "print(greet(\"Bob\"))\n",
    "print(greet(\"Charlie\"))"
   ]
  },
  {
   "cell_type": "markdown",
   "id": "58553366-71ba-4d35-819d-31b2d90fd5a5",
   "metadata": {},
   "source": [
    "このように、関数を利用することで一定の処理をまとめることができます。\n",
    "\n",
    "関数はいくつかの引数を受け取ることもできます。  \n",
    "例として、`greet`関数の挨拶文も変更できるようにします。\n",
    "\n",
    "関数実行時に引数名を指定しない場合、自動的に1番目の引数から代入されていきます。  \n",
    "明示的に引数を指定して代入することもでき、特に引数が複数ある場合に便利です。\n"
   ]
  },
  {
   "cell_type": "code",
   "execution_count": 2,
   "id": "c03c969d-de42-4924-848a-2353801c46bb",
   "metadata": {},
   "outputs": [
    {
     "name": "stdout",
     "output_type": "stream",
     "text": [
      "Hello, Alice!\n",
      "Good morning, Bob!\n"
     ]
    }
   ],
   "source": [
    "# 関数の定義\n",
    "def custom_greet(greeting, name):\n",
    "    \"\"\"\n",
    "    指定した名前に挨拶を返す関数\n",
    "\n",
    "    Parameters\n",
    "    ----------\n",
    "    greeting: str\n",
    "        挨拶文\n",
    "    name: str\n",
    "        挨拶をする相手の名前\n",
    "    \"\"\"\n",
    "\n",
    "    # 挨拶文の作成\n",
    "    # 文字列は + で結合できる\n",
    "    greeting_text = greeting + \", \" + name + \"!\"\n",
    "\n",
    "    return greeting_text\n",
    "\n",
    "# 関数を呼び出す\n",
    "print(custom_greet(\"Hello\", \"Alice\"))\n",
    "\n",
    "# 明示的に引数を指定して代入\n",
    "print(custom_greet(name=\"Bob\", greeting=\"Good morning\"))"
   ]
  },
  {
   "cell_type": "markdown",
   "id": "197177fe-c29a-4cd7-9d42-4039eab924c0",
   "metadata": {},
   "source": [
    "### デフォルト引数\n",
    "関数の引数にはデフォルトの値を設定することができます。  \n",
    "今詳しくは言及しないですが、副作用があるので配列や辞書などデータを格納する構造をデフォルト引数に設定するのはやめましょう。\n",
    "\n",
    "デフォルト値を持つ引数は、デフォルト値を持たない引数の後に定義する必要があります。"
   ]
  },
  {
   "cell_type": "code",
   "execution_count": 3,
   "id": "b8a346f9-968e-481c-87e4-4b8f7ee062b4",
   "metadata": {},
   "outputs": [
    {
     "name": "stdout",
     "output_type": "stream",
     "text": [
      "Hello, there!\n"
     ]
    }
   ],
   "source": [
    "# 関数の定義\n",
    "def custom_greet(greeting, name=\"there\"):\n",
    "    \"\"\"\n",
    "    指定した名前に挨拶を返す関数\n",
    "\n",
    "    Parameters\n",
    "    ----------\n",
    "    greeting: str\n",
    "        挨拶文\n",
    "    name: str, default 'there'\n",
    "        挨拶をする相手の名前\n",
    "    \"\"\"\n",
    "\n",
    "    # 挨拶文の作成\n",
    "    greeting_text = greeting + \", \" + name + \"!\"\n",
    "    return greeting_text\n",
    "\n",
    "# 名前を指定せずに呼び出す。\n",
    "print(custom_greet(\"Hello\"))\n"
   ]
  },
  {
   "cell_type": "markdown",
   "id": "242a4233-27e9-453a-8f2b-291b6d30d75f",
   "metadata": {},
   "source": [
    "### 可変長引数\n",
    "引数の数を固定せず、任意の数の引数を渡すことができます。\n",
    "二つの方法があります。\n",
    "\n",
    "1. 引数名を指定せずに受け取る方法: `*`で定義\n",
    "2. 引数名ともに受け取る方法: `**`で定義\n",
    "\n",
    "一つ目のように引数名を指定しない引数を位置引数、引数名を指定する引数をキーワード引数と呼びます。"
   ]
  },
  {
   "cell_type": "code",
   "execution_count": 4,
   "id": "7d5bf964-6fcd-45d2-b99e-8c161c9a5911",
   "metadata": {},
   "outputs": [
    {
     "name": "stdout",
     "output_type": "stream",
     "text": [
      "Hello, Alice!\n",
      "Hello, Bob!\n",
      "Hello, Charlie!\n"
     ]
    }
   ],
   "source": [
    "# 与えられた名前の人たちに挨拶をする\n",
    "def greet_all(*names):\n",
    "    \"\"\"\n",
    "    指定した挨拶を与えられた名前の全員に行う\n",
    "\n",
    "    Parameters\n",
    "    ----------\n",
    "    names: str\n",
    "        挨拶をする人の名前\n",
    "    \"\"\"\n",
    "\n",
    "    for name in names:\n",
    "        print(\"Hello, \" + name + \"!\")\n",
    "\n",
    "greet_all(\"Alice\", \"Bob\", \"Charlie\")"
   ]
  },
  {
   "cell_type": "markdown",
   "id": "cab4426e-0883-4ce6-93dd-53f8c2ba9f71",
   "metadata": {},
   "source": [
    "位置可変長引数はタプル、キーワード可変長引数は辞書で引数に渡されています。  \n",
    "それをPythonに組み込まれている`type`関数を利用して確認します。"
   ]
  },
  {
   "cell_type": "code",
   "execution_count": 5,
   "id": "6f2efe1f-a81e-43bb-9f0b-92b092005943",
   "metadata": {},
   "outputs": [
    {
     "name": "stdout",
     "output_type": "stream",
     "text": [
      "*argsの型:  <class 'tuple'>\n",
      "*argsの値:  ('arg1', 'arg2')\n",
      "**kwargsの型:  <class 'dict'>\n",
      "**kwargsの値:  {'kwarg1': 'kwarg1', 'kwarg2': 'kwarg2'}\n"
     ]
    }
   ],
   "source": [
    "def check_type(*args, **kwargs):\n",
    "    \"\"\"\n",
    "    可変長引数の型を確認する.\n",
    "    \"\"\"\n",
    "\n",
    "    print(\"*argsの型: \", type(args))\n",
    "    print(\"*argsの値: \", args)\n",
    "    print(\"**kwargsの型: \", type(kwargs))\n",
    "    print(\"**kwargsの値: \", kwargs)\n",
    "\n",
    "check_type(\"arg1\", \"arg2\", kwarg1=\"kwarg1\", kwarg2=\"kwarg2\")"
   ]
  },
  {
   "cell_type": "markdown",
   "id": "072cd14f-995f-4be4-8e41-569729d3c113",
   "metadata": {},
   "source": [
    "### 関数の戻り値について\n",
    "関数は複数の値を返却することができます。  \n",
    "一応リストやタプル、辞書などを利用して、一つの戻り値として代替することはできます。\n",
    "\n",
    "複数の戻り値がある場合、戻り値はタプルとして返却されます。  \n",
    "代入時にそれぞれの値の変数を宣言することで、戻り値をそれぞれ変数にダイレクトに代入できます。\n",
    "\n",
    "\n",
    "例として、二つの数字を入力として受け取り、四則演算結果を返却する関数を実装します。  "
   ]
  },
  {
   "cell_type": "code",
   "execution_count": 6,
   "id": "084cede8-b3fa-4cc9-add4-6c2addb9e3b8",
   "metadata": {},
   "outputs": [
    {
     "name": "stdout",
     "output_type": "stream",
     "text": [
      "(6, -2, 8, 0.5)\n",
      "和:  6\n",
      "差:  -2\n",
      "積:  8\n",
      "商:  0.5\n"
     ]
    }
   ],
   "source": [
    "def basic_calculations(num1, num2):\n",
    "    \"\"\"\n",
    "    与えられた二つの数字をもとに、四則演算の結果を返却する.\n",
    "    \"\"\"\n",
    "\n",
    "    sum_result = num1 + num2\n",
    "    diff_result = num1 - num2\n",
    "    product_result = num1 * num2\n",
    "\n",
    "    # 0で割れない\n",
    "    if num2 == 0:\n",
    "        quotient_result = None\n",
    "    else:\n",
    "        quotient_result = num1 / num2\n",
    "\n",
    "    return sum_result, diff_result, product_result, quotient_result\n",
    "\n",
    "# 2と４の四則演算結果\n",
    "print(basic_calculations(2, 4))\n",
    "\n",
    "# それぞれの変数に直接代入することができる。\n",
    "sum_result, diff_result, product_result, quotient_result = basic_calculations(2, 4)\n",
    "print(\"和: \", sum_result)\n",
    "print(\"差: \", diff_result)\n",
    "print(\"積: \", product_result)\n",
    "print(\"商: \", quotient_result)"
   ]
  },
  {
   "cell_type": "markdown",
   "id": "023ca243-0a28-4f5d-b37e-1493e899b7c1",
   "metadata": {},
   "source": [
    "### docstring\n",
    "情報をドキュメントとして残すことができます。  \n",
    "処理に影響は与えないですが、コードの可読性の向上やコード開発時の参照などいくつかの利点があります。\n",
    "\n",
    "いくつかの決まったフォーマットがあり、GoogleスタイルとNumpyスタイルへのドキュメントを記載しておきます。\n",
    "\n",
    "- Google: https://google.github.io/styleguide/pyguide.html\n",
    "- Numpy: https://numpydoc.readthedocs.io/en/latest/format.html"
   ]
  },
  {
   "cell_type": "markdown",
   "id": "f99fb684-ee18-47e5-b48e-1b5c67591ae3",
   "metadata": {},
   "source": [
    "## セクション2: モジュールとパッケージ\n",
    "\n",
    "### モジュールの理解\n",
    "Pythonでは関連する関数や変数、クラスなどを一つにまとめて管理することができます。  \n",
    "これをモジュールといい、これによって同じ処理を複数のプログラムで利用できます。\n",
    "\n",
    "モジュールには大きく分けてPython標準のモジュールとサードパーティのモジュールが存在します。\n",
    "標準のモジュールとしてよく使うのは\n",
    "\n",
    "- `datetime`: 日時の計算のためのモジュール\n",
    "- `os`: ファイルシステムを操作するためのモジュール\n",
    "\n",
    "などがあり、データ分析や機械学習の文脈としては以下のサードパーティ製のモジュールが一般的に使われています。\n",
    "\n",
    "- `numpy`: 高度な数学計算のためのモジュール\n",
    "- `pandas`: 表計算のためのモジュール\n",
    "- `matplotlib`: グラフ描画のためのモジュール\n",
    "- `scikit-learn`: 機械学習に関する基本的な機能を網羅したモジュール\n",
    "\n",
    "### モジュールの利用\n",
    "モジュールを利用するには、`import`ステートメントを使ってPythonスクリプトに取り込む必要があります。  \n",
    "また`from`を利用してモジュールの中でも一部だけ取り組むこともできます。\n",
    "\n",
    "#### モジュール内の機能へのアクセス\n",
    "モジュールにはさまざまな関数や変数、クラスが含まれています。一般的なモジュールは以下のような階層構造をしています。\n",
    "```\n",
    "mymodule\n",
    "┣━ pkg1\n",
    "┃  ┣━ func1.py\n",
    "┃  ┃  ┗━ greet\n",
    "┃  ┗━ func2.py\n",
    "┃     ┣━ add\n",
    "┃     ┗━ diff\n",
    "┗━ pkg2\n",
    "   ┗━ func3.py\n",
    "       ┣━ read_text\n",
    "       ┗━ write_text\n",
    "```\n",
    "パッケージに含まれる機能を利用するには、その機能がどこにあるかを把握する必要があります。  \n",
    "Pythonではこの階層構造を辿るためにドット（.）記法を使用します。  \n",
    "\n",
    "この記法は、モジュール名やオブジェクト名の後にドットを置き、続けて属性名やメソッド名を記述することで、その属性やメソッドを参照します。\n",
    "\n",
    "例えば、`greet`関数にアクセスするためには以下のようにアクセスします。\n",
    "\n",
    "```python\n",
    "# パターン1\n",
    "import mymodule\n",
    "mymodule.pkg1.func1.greet()\n",
    "\n",
    "# パターン2\n",
    "from mymodule.pkg1 import func1\n",
    "func1.greet()\n",
    "```\n",
    "\n",
    "#### `datetime`モジュールを利用した日付の計算\n",
    "例として、datetimeモジュールを取り込み、日付に関する機能を利用します。\n",
    "\n",
    "datetimeモジュールでは、今日の日付や今の時間を取得するための関数があります。\n",
    "- 今日の日付: `datetime.date.today()`\n",
    "- 今の時間: `datetime.datetime.now()`"
   ]
  },
  {
   "cell_type": "code",
   "execution_count": 7,
   "id": "cf450e22-4ab3-49a4-8ea4-59d76dbb9d8c",
   "metadata": {},
   "outputs": [
    {
     "name": "stdout",
     "output_type": "stream",
     "text": [
      "今日の日付は,  2024-06-09\n",
      "今の時間は,  2024-06-09 18:02:59.040012\n"
     ]
    }
   ],
   "source": [
    "# datetimeのimport\n",
    "import datetime\n",
    "\n",
    "# 今日の日付\n",
    "today = datetime.date.today()\n",
    "\n",
    "# 今の時間\n",
    "now = datetime.datetime.now()\n",
    "\n",
    "print(\"今日の日付は, \", today)\n",
    "print(\"今の時間は, \", now)"
   ]
  },
  {
   "cell_type": "markdown",
   "id": "16aa1214-be28-4038-80da-0682c0453cf8",
   "metadata": {},
   "source": [
    "また日付についての演算をすることができます。  \n",
    "日付の演算には`datetime.timedelta`を利用します。"
   ]
  },
  {
   "cell_type": "code",
   "execution_count": 8,
   "id": "8a960c29-c815-4a77-9c8e-f2d57b62783c",
   "metadata": {},
   "outputs": [
    {
     "name": "stdout",
     "output_type": "stream",
     "text": [
      "2024-11-01 の30日前の日付は, 2024-10-02\n"
     ]
    }
   ],
   "source": [
    "# 日時計算のための機能のみ追加で取り込む\n",
    "from datetime import timedelta\n",
    "\n",
    "# 基準の日を定義\n",
    "base_date = datetime.date(2024, 11, 1)\n",
    "\n",
    "# 30日前の計算\n",
    "print(base_date, \"の30日前の日付は,\", base_date - timedelta(days=30))"
   ]
  },
  {
   "cell_type": "markdown",
   "id": "2ded4ab7-9139-4b41-9339-e753b3308884",
   "metadata": {},
   "source": [
    "このようにモジュールを利用して、特定の領域において便利な機能を利用することができます。"
   ]
  },
  {
   "cell_type": "markdown",
   "id": "ad94b966-bca6-41b4-8e02-97552406d55a",
   "metadata": {},
   "source": [
    "### モジュールの作成\n",
    "\n",
    "Pythonでモジュールを作成するのは非常にシンプルで`.py`ファイル作成するだけでそのままimportすることができます。  \n",
    "`import`を実行する際に取り込む範囲は`sys`モジュールで確認することができます。\n",
    "\n",
    "TODO\n",
    "- `__init__.py`の挙動\n",
    "- パッケージのビルド\n",
    "\n",
    "\n",
    "サンプルとして、greet関数を`src/mymodule/greet.py`に定義しました。  \n",
    "この関数を利用してみます。"
   ]
  },
  {
   "cell_type": "code",
   "execution_count": 9,
   "id": "56bbf210-4f6e-48df-8d29-955165dfe786",
   "metadata": {},
   "outputs": [],
   "source": [
    "# srcディレクトリが検索対象にない場合に追加\n",
    "import os\n",
    "import sys\n",
    "\n",
    "module_path = os.path.abspath(\"../src\") \n",
    "if module_path not in sys.path:\n",
    "    sys.path.append(module_path)"
   ]
  },
  {
   "cell_type": "code",
   "execution_count": 10,
   "id": "b7191d86-8cf5-4b02-be8b-3eef4002144e",
   "metadata": {},
   "outputs": [
    {
     "name": "stdout",
     "output_type": "stream",
     "text": [
      "Hello, Alice!\n"
     ]
    }
   ],
   "source": [
    "# importするときには`.py`は省く\n",
    "# ここのgreetはgreet関数ではなく、greet.pyのgreet\n",
    "from mymodule import greet\n",
    "\n",
    "# greet.pyの中のgreet()にアクセスする\n",
    "print(greet.greet(\"Alice\"))"
   ]
  },
  {
   "cell_type": "markdown",
   "id": "06e32861-7bcf-4c68-bce0-ecb7dcb3496c",
   "metadata": {},
   "source": [
    "## セクション3: オーソドックスなサードパーティパッケージ紹介\n",
    "\n",
    "### データ分析\n",
    "1. NumPy\n",
    "    - 概要: NumPyは、数値計算を効率的に行うための基本的なパッケージで、主に配列や行列の計算に使用されます。高性能な多次元配列オブジェクトとこれを操作するためのツールを提供します。\n",
    "    - 基本的な使用例: 配列の作成、配列を用いた算術計算、統計計算の実行など。\n",
    "2. pandas\n",
    "    - 概要: pandasはデータ分析と操作のための強力なライブラリで、特に表形式のデータや異なるデータ型を含む時間系列データの操作に適しています。\n",
    "    - 基本的な使用例: CSVファイルの読み込み、データの絞り込みや集計、データのクリーニングと前処理。\n",
    "3. Matplotlib\n",
    "    - 概要: Matplotlibは、Pythonでデータをグラフィカルに可視化するためのライブラリです。静的、アニメーション、インタラクティブな可視化をサポートします。\n",
    "    - 基本的な使用例: 各種グラフの作成（折れ線グラフ、棒グラフ、散布図など）。\n",
    "4. scikit-learn\n",
    "    - 概要: scikit-learnは機械学習のためのライブラリで、分類、回帰、クラスタリングなど、多くの機械学習アルゴリズムを簡単に利用できます。\n",
    "    - 基本的な使用例: データの正規化、機械学習モデルの訓練と評価、予測の実行。\n",
    "5. Seaborn\n",
    "    - 概要: SeabornはMatplotlibに基づいており、統計的データ可視化をより簡単かつ美しく行うことができます。主にデータセットのトレンドを視覚的に表現するのに適しています。\n",
    "    - 基本的な使用例: ヒートマップ、時間系列データの可視化、分布の可視化。\n",
    "\n",
    "### Web操作\n",
    "1. requests\n",
    "2. BeautifulSoup4\n",
    "3. Selenium"
   ]
  },
  {
   "cell_type": "code",
   "execution_count": null,
   "id": "4a3774fe-5ad2-4ba9-9c90-56e600bb7de6",
   "metadata": {},
   "outputs": [],
   "source": []
  }
 ],
 "metadata": {
  "kernelspec": {
   "display_name": "Python 3 (ipykernel)",
   "language": "python",
   "name": "python3"
  },
  "language_info": {
   "codemirror_mode": {
    "name": "ipython",
    "version": 3
   },
   "file_extension": ".py",
   "mimetype": "text/x-python",
   "name": "python",
   "nbconvert_exporter": "python",
   "pygments_lexer": "ipython3",
   "version": "3.11.6"
  }
 },
 "nbformat": 4,
 "nbformat_minor": 5
}
