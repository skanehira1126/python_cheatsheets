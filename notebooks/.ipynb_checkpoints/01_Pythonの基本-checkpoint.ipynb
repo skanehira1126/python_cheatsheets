{
 "cells": [
  {
   "cell_type": "markdown",
   "id": "428d7d3e-c3f7-4093-9fcd-9bd43d49e218",
   "metadata": {},
   "source": [
    "# Pythonの基本\n",
    "\n",
    "Pythonの基本的な使い方について説明します。\n",
    "ここに記載されている内容を理解できると、大半のPythonコードは読めるようになると思います。\n",
    "\n"
   ]
  },
  {
   "cell_type": "markdown",
   "id": "b52baff2-7405-42a5-93d4-b58b6cdb31f0",
   "metadata": {},
   "source": [
    "## セクション 1: 変数\n",
    "Pythonは**変数**を利用してデータを管理します。  \n",
    "変数とは、値を格納するための名前付きの「容器」です。変数を使用することで、プログラムの中でデータの値によらず同じデータとして管理できます。\n",
    "\n",
    "例えば、銀行口座を作るときに氏名を入力すると思いますが、実際に登録される氏名の「値」は人によって異なります。  \n",
    "これは「銀行口座の氏名」という名前の「変数」を用いて、「姓と名」というデータを紐付けて管理していると考えることができます。"
   ]
  },
  {
   "cell_type": "code",
   "execution_count": 1,
   "id": "e8699622-8d85-497c-832b-616560d315d3",
   "metadata": {},
   "outputs": [
    {
     "name": "stdin",
     "output_type": "stream",
     "text": [
      "あなたの氏名は？ 田中太郎\n"
     ]
    },
    {
     "name": "stdout",
     "output_type": "stream",
     "text": [
      "あなたの氏名： 田中太郎\n"
     ]
    }
   ],
   "source": [
    "# 氏名を「shimei」という変数に格納\n",
    "shimei = input(\"あなたの氏名は？\")\n",
    "\n",
    "print(\"あなたの氏名：\", shimei)"
   ]
  },
  {
   "cell_type": "markdown",
   "id": "adb6a306-b88d-47d8-b5f6-c1bc14ac123f",
   "metadata": {},
   "source": [
    "少し複雑な例として、二つの数字の掛け算を行う電卓のような機能を作ります。"
   ]
  },
  {
   "cell_type": "code",
   "execution_count": 2,
   "id": "27277eae-a2ff-4010-bf7a-ae624a882fd7",
   "metadata": {},
   "outputs": [
    {
     "name": "stdin",
     "output_type": "stream",
     "text": [
      "1つ目の数字 10\n",
      "2つ目の数字 33\n"
     ]
    },
    {
     "name": "stdout",
     "output_type": "stream",
     "text": [
      "入力された値は: 10 と 33\n",
      "入力された値の積は: 330\n"
     ]
    }
   ],
   "source": [
    "# 二つの数字をそれぞれ変数として代入\n",
    "number1 = int(input(\"1つ目の数字\"))  # ユーザーから整数を入力してもらい、それをnumber1という変数に代入\n",
    "number2 = int(input(\"2つ目の数字\"))  # 同様に、別の整数をnumber2という変数に代入\n",
    "\n",
    "# 入力された値を表示\n",
    "print(\"入力された値は:\", number1, \"と\", number2)\n",
    "\n",
    "# 入力された二つの数値の積を計算し、結果を表示\n",
    "print(\"入力された値の積は:\", number1 * number2)"
   ]
  },
  {
   "cell_type": "markdown",
   "id": "437dfd73-5e9f-4a3c-9ff9-dee314504cab",
   "metadata": {},
   "source": [
    "## セクション 2: データ型\n",
    "\n",
    "変数にはデータが格納されますが、データにはそれぞれ型が存在します。\n",
    "Pythonでよく使用される基本的なデータ型には以下の4つがあります。\n",
    "\n",
    "- 整数: `int`\n",
    "- 浮動小数点: `float`\n",
    "- 文字列: `str`\n",
    "- ブーリアン（真偽値）: `bool`\n",
    "- それぞれの型を表示してみましょう。型は`type`関数で確認できます。"
   ]
  },
  {
   "cell_type": "code",
   "execution_count": 3,
   "id": "de95bee9-8baf-454f-9c91-102a8ee1ead2",
   "metadata": {},
   "outputs": [
    {
     "name": "stdout",
     "output_type": "stream",
     "text": [
      "10 <class 'int'>\n",
      "5.3 <class 'float'>\n",
      "Hello world <class 'str'>\n",
      "True <class 'bool'>\n"
     ]
    }
   ],
   "source": [
    "# 整数\n",
    "number = 10\n",
    "print(number, type(number))\n",
    "\n",
    "# 浮動小数点\n",
    "decimal = 5.3\n",
    "print(decimal, type(decimal))\n",
    "\n",
    "# 文字列\n",
    "text = \"Hello world\"\n",
    "print(text, type(text))\n",
    "\n",
    "# ブーリアン\n",
    "boolean = True\n",
    "print(boolean, type(boolean))"
   ]
  },
  {
   "cell_type": "markdown",
   "id": "9f07b1d2-8f30-4461-ad86-9392ec055bd0",
   "metadata": {},
   "source": [
    "Pythonではデータの型は適宜プログラム側が察してくれます。  \n",
    "ユーザ側で明示的に指定することができます。"
   ]
  },
  {
   "cell_type": "code",
   "execution_count": 4,
   "id": "dac854d2-e423-4ff6-9518-4326e703b5bf",
   "metadata": {},
   "outputs": [
    {
     "name": "stdout",
     "output_type": "stream",
     "text": [
      "10 <class 'str'>\n",
      "False <class 'str'>\n"
     ]
    }
   ],
   "source": [
    "# 10という数字の文字列\n",
    "text_number = \"10\"\n",
    "print(text_number, type(text_number))\n",
    "\n",
    "# Falseという文字列\n",
    "text_boolean = \"False\"\n",
    "print(text_boolean, type(text_boolean))"
   ]
  },
  {
   "cell_type": "markdown",
   "id": "c1a73eff-bc92-4d8f-8b45-350b66aaa07b",
   "metadata": {},
   "source": [
    "初心者のうちは型をあまり意識する必要はありませんが、プログラムが意図しない型を推論することが原因でエラーが発生する場合があります。  \n",
    "そのような時に型を明示的に宣言することで、Pythonに正しい型を伝えることができます。"
   ]
  },
  {
   "cell_type": "markdown",
   "id": "590559b6-ad0c-41ef-b698-ec334d006f96",
   "metadata": {},
   "source": [
    "## セクション3: 演算子\n",
    "データを操作するための特別な記号やキーワードを演算子といいます。  \n",
    "大きく分けて、「算術演算子」「比較演算子」「論理演算子」がありますが、使っているうちに覚えると思います。  \n",
    "最初のうちは適宜調べましょう。\n",
    "\n",
    "これから説明する演算子は、文字列型など数値以外の型に対しても演算を行うことができますが、ややこしくなるので今はそこには触れません。  \n",
    "必要に応じて後で出てきます。\n",
    "\n",
    "### 算術演算子\n",
    "数値の変数同士を計算します。  \n",
    "計算結果も数値なので、計算結果は整数もしくは浮動小数点になります。\n",
    "\n",
    "\n",
    "- 加算: `+`\n",
    "- 減算: `-`\n",
    "- 乗算: `*`\n",
    "- 除算: `/`\n",
    "- 剰余（あまり）: `%`\n",
    "- 除算（切り捨て）: `//`\n",
    "- 冪乗: `**`"
   ]
  },
  {
   "cell_type": "code",
   "execution_count": 5,
   "id": "a09254e3-4c53-4832-89d4-fc84ea04b7e3",
   "metadata": {},
   "outputs": [
    {
     "name": "stdout",
     "output_type": "stream",
     "text": [
      "2 + 3 =  5\n",
      "2 - 3 =  -1\n",
      "2 * 3 =  6\n",
      "2 / 3 =  0.6666666666666666\n",
      "2 % 3 =  2\n",
      "2 // 3 =  0\n",
      "2 ** 3 =  8\n"
     ]
    }
   ],
   "source": [
    "# 加算\n",
    "print(\"2 + 3 = \", 2 + 3)\n",
    "\n",
    "# 減算\n",
    "print(\"2 - 3 = \", 2 - 3)\n",
    "\n",
    "# 乗算\n",
    "print(\"2 * 3 = \", 2 * 3)\n",
    "\n",
    "# 除算\n",
    "print(\"2 / 3 = \", 2 / 3)\n",
    "\n",
    "# 剰余\n",
    "print(\"2 % 3 = \", 2 % 3)\n",
    "\n",
    "# 除算（切り捨て）\n",
    "print(\"2 // 3 = \", 2 // 3)\n",
    "\n",
    "# 冪乗\n",
    "print(\"2 ** 3 = \", 2 ** 3)"
   ]
  },
  {
   "cell_type": "markdown",
   "id": "b23c7469-6db9-424a-9160-d43b0e0ec5bb",
   "metadata": {},
   "source": [
    "### 比較演算子\n",
    "値同士を比較します。そして、その比較結果を真偽値（`bool`型）を返します。\n",
    "\n",
    "- 等しい: `==`\n",
    "- 異なる: `!=`\n",
    "- より大きい: `>`\n",
    "- より小さい: `<`\n",
    "- 以上: `>=`\n",
    "- 以下: `<=`\n",
    "\n"
   ]
  },
  {
   "cell_type": "code",
   "execution_count": 6,
   "id": "261dbcad-3e70-414b-a071-a417386a5792",
   "metadata": {},
   "outputs": [
    {
     "name": "stdout",
     "output_type": "stream",
     "text": [
      "2 == 2 ?  True\n",
      "2 != 2 ?  False\n",
      "2 > 2 ?  False\n",
      "2 < 2 ?  False\n",
      "2 >= 2 ?  True\n",
      "2 <= 2 ?  True\n"
     ]
    }
   ],
   "source": [
    "# 等しい\n",
    "print(\"2 == 2 ? \", 2 == 2)\n",
    "\n",
    "# 等しくない\n",
    "print(\"2 != 2 ? \", 2 != 2)\n",
    "\n",
    "# より大きい\n",
    "print(\"2 > 2 ? \", 2 > 2)\n",
    "\n",
    "# より小さい\n",
    "print(\"2 < 2 ? \", 2 < 2)\n",
    "\n",
    "# 以上\n",
    "print(\"2 >= 2 ? \", 2 >= 2)\n",
    "\n",
    "# 以下\n",
    "print(\"2 <= 2 ? \", 2 <= 2)"
   ]
  },
  {
   "cell_type": "markdown",
   "id": "37179036-972d-4a79-b24f-cf1229383763",
   "metadata": {},
   "source": [
    "### 論理演算子\n",
    "論理的な条件を組み合わせるために使用されます。  \n",
    "つまり複数と`True`と`False`の組み合わせを扱うための演算子です。\n",
    "\n",
    "- 論理積: `and`\n",
    "- 論理和: `or`\n",
    "- 否定: `not`"
   ]
  },
  {
   "cell_type": "code",
   "execution_count": 7,
   "id": "e04e76d3-954d-4850-b40f-d66565449dbe",
   "metadata": {},
   "outputs": [
    {
     "name": "stdout",
     "output_type": "stream",
     "text": [
      "True and False False\n",
      "True or False True\n",
      "not True False\n"
     ]
    }
   ],
   "source": [
    "# 論理積\n",
    "print(\"True and False\", True and False)\n",
    "\n",
    "# 論理積\n",
    "print(\"True or False\", True or False)\n",
    "\n",
    "# 否定\n",
    "print(\"not True\", not True)"
   ]
  },
  {
   "cell_type": "markdown",
   "id": "3f5f50c8-cf7b-4767-a1ce-8508f746f3f3",
   "metadata": {},
   "source": [
    "## セクション4: データ構造\n",
    "Pythonにはデータをまとめて効率的に管理するための4つの型があります。  \n",
    "\n",
    "- リスト: `list`\n",
    "- タプル: `tuple`\n",
    "- 辞書: `dict`\n",
    "- 集合（セット）: `set`\n",
    "\n",
    "### リスト\n",
    "複数のデータを順序をつけて管理するための型で、変更可能です。  \n",
    "`[]`で定義できます。\n",
    "\n",
    "リストに含まれる要素の数は`len`を利用すると取得することができます。"
   ]
  },
  {
   "cell_type": "code",
   "execution_count": 8,
   "id": "887bb599-1cef-4f24-acdf-3971ac5f39ed",
   "metadata": {},
   "outputs": [
    {
     "name": "stdout",
     "output_type": "stream",
     "text": [
      "リスト全体:  ['apple', 'banana', 'cherry']\n",
      "リストの個数:  3\n"
     ]
    }
   ],
   "source": [
    "# リストの作成\n",
    "fruits = [\"apple\", \"banana\", \"cherry\"]\n",
    "\n",
    "print(\"リスト全体: \", fruits)\n",
    "print(\"リストの個数: \", len(fruits))"
   ]
  },
  {
   "cell_type": "markdown",
   "id": "81ff9dbd-2219-4739-80e5-d51272f1eceb",
   "metadata": {},
   "source": [
    "#### リストの要素の参照\n",
    "リスト内の要素には`var[x]`のようにアクセスできます。0番目から始まることに気をつける必要があります。  \n",
    "また、`:`を利用して範囲を指定して要素を取得できます。"
   ]
  },
  {
   "cell_type": "code",
   "execution_count": 9,
   "id": "f86a7c40-b9dc-40d7-b6d2-76295847a454",
   "metadata": {},
   "outputs": [
    {
     "name": "stdout",
     "output_type": "stream",
     "text": [
      "1つ目のフルーツ:  apple\n",
      "2つ目のフルーツ:  banana\n",
      "3つ目のフルーツ:  cherry\n",
      "2つ目までのフルーツ:  ['apple', 'banana']\n",
      "2つ目以降のフルーツ:  ['banana', 'cherry']\n"
     ]
    }
   ],
   "source": [
    "# 要素の参照\n",
    "print(\"1つ目のフルーツ: \", fruits[0])\n",
    "print(\"2つ目のフルーツ: \", fruits[1])\n",
    "print(\"3つ目のフルーツ: \", fruits[2])\n",
    "\n",
    "# 範囲で取得\n",
    "print(\"2つ目までのフルーツ: \", fruits[:2])\n",
    "print(\"2つ目以降のフルーツ: \", fruits[1:])\n"
   ]
  },
  {
   "cell_type": "markdown",
   "id": "8978fc2c-6529-4437-90e9-9fd2ccd72196",
   "metadata": {},
   "source": [
    "リストの主な操作\n",
    "\n",
    "- 追加\n",
    "- 削除"
   ]
  },
  {
   "cell_type": "code",
   "execution_count": 10,
   "id": "82b28589-b1c7-4644-95d6-1133274dc3fb",
   "metadata": {},
   "outputs": [
    {
     "name": "stdout",
     "output_type": "stream",
     "text": [
      "orangeを追加した ->  ['apple', 'banana', 'cherry', 'orange']\n",
      "bananaを削除した ->  ['apple', 'cherry', 'orange']\n"
     ]
    }
   ],
   "source": [
    "# 追加 (最後に追加される)\n",
    "fruits.append(\"orange\")\n",
    "\n",
    "print(\"orangeを追加した -> \", fruits)\n",
    "\n",
    "# 削除\n",
    "fruits.remove(\"banana\")\n",
    "\n",
    "print(\"bananaを削除した -> \", fruits)"
   ]
  },
  {
   "cell_type": "markdown",
   "id": "7b494979-43bf-4c2f-b142-73d4587cac25",
   "metadata": {},
   "source": [
    "### タプル\n",
    "リストのように複数のデータを順序をつけて管理するための型ですが、リストと違い一度定義すると変更することができません。  \n",
    "`()`を利用して定義します。\n",
    "\n",
    "要素の参照方法はリストと同じです。"
   ]
  },
  {
   "cell_type": "code",
   "execution_count": 11,
   "id": "9216de7d-e4a1-4f71-bfdf-6bb6fa2264e2",
   "metadata": {},
   "outputs": [
    {
     "name": "stdout",
     "output_type": "stream",
     "text": [
      "(20, 50, 30)\n",
      "20\n",
      "(20, 50)\n"
     ]
    }
   ],
   "source": [
    "# タプルの作成\n",
    "dimensions = (20, 50, 30)\n",
    "print(dimensions)\n",
    "\n",
    "# タプルの要素にアクセス\n",
    "print(dimensions[0]) \n",
    "print(dimensions[0:2])  # 範囲で参照もできる\n"
   ]
  },
  {
   "cell_type": "markdown",
   "id": "191ae9f8-e9e3-4795-ba15-a4ef88493a9d",
   "metadata": {},
   "source": [
    "### 辞書\n",
    "キーと値の組み合わせてデータを管理することができる型です。\n",
    "`{}`を利用して定義します。\n",
    "\n",
    "値にはキーで参照するので、リストやタプルとは違い、場所で参照することはできません。  \n",
    "そのため、キーは重複することはできません。\n",
    "\n"
   ]
  },
  {
   "cell_type": "code",
   "execution_count": 12,
   "id": "84069728-396e-4cf0-8fe8-26cab31ac555",
   "metadata": {},
   "outputs": [
    {
     "name": "stdout",
     "output_type": "stream",
     "text": [
      "ユーザ:  {'氏名': '田中太郎', '年齢': 43, '口座開設日': '２０21年11月9日'}\n",
      "氏名:  田中太郎\n",
      "年齢:  43\n",
      "口座開設日:  ２０21年11月9日\n"
     ]
    }
   ],
   "source": [
    "# 辞書の定義\n",
    "user = {\n",
    "    \"氏名\": \"田中太郎\",\n",
    "    \"年齢\": 43,\n",
    "    \"口座開設日\": \"２０21年11月9日\",\n",
    "}\n",
    "\n",
    "print(\"ユーザ: \", user)\n",
    "print(\"氏名: \", user[\"氏名\"])\n",
    "print(\"年齢: \", user[\"年齢\"])\n",
    "print(\"口座開設日: \", user[\"口座開設日\"])"
   ]
  },
  {
   "cell_type": "markdown",
   "id": "a23aa7dd-4ba6-4b17-bcf0-adfbb3ccab16",
   "metadata": {},
   "source": [
    "#### 辞書の操作\n",
    "\n",
    "- 追加\n",
    "- 更新\n",
    "- 削除"
   ]
  },
  {
   "cell_type": "code",
   "execution_count": 13,
   "id": "6881f111-9d9d-4ff8-a9f9-d78a3feb8965",
   "metadata": {},
   "outputs": [
    {
     "name": "stdout",
     "output_type": "stream",
     "text": [
      "ユーザ:  {'氏名': '田中太郎', '年齢': 43, '口座開設日': '２０21年11月9日', '口座番号': 11111111}\n",
      "ユーザ:  {'氏名': '田中太郎', '年齢': 34, '口座開設日': '２０21年11月9日', '口座番号': 11111111}\n",
      "ユーザ:  {'氏名': '田中太郎', '年齢': 34, '口座番号': 11111111}\n"
     ]
    }
   ],
   "source": [
    "# 追加 / 更新\n",
    "# キーがない場合は追加\n",
    "user[\"口座番号\"] = 11111111\n",
    "print(\"ユーザ: \", user)\n",
    "\n",
    "# キーがある場合は更新\n",
    "user[\"年齢\"] =34\n",
    "print(\"ユーザ: \", user)\n",
    "\n",
    "# 削除\n",
    "del user[\"口座開設日\"]\n",
    "print(\"ユーザ: \", user)"
   ]
  },
  {
   "cell_type": "markdown",
   "id": "313d798e-f6f8-4cfb-88a1-9a442a20aa26",
   "metadata": {},
   "source": [
    "### セット\n",
    "順序を持たず、重複しない要素を持たないようなデータを管理するための型です。  \n",
    "辞書と同じく、`{}`を利用して定義します。\n",
    "\n",
    "重複するものを自動的に削除できるので、リストの重複削除に利用されます。"
   ]
  },
  {
   "cell_type": "code",
   "execution_count": 14,
   "id": "f7b55285-0ba4-463e-8568-5c892faf8791",
   "metadata": {},
   "outputs": [
    {
     "name": "stdout",
     "output_type": "stream",
     "text": [
      "{'blue', 'red', 'green'}\n",
      "{'blue', 'red', 'green'}\n"
     ]
    }
   ],
   "source": [
    "# セットの作成\n",
    "colors = {\"red\", \"blue\", \"green\"}\n",
    "print(colors)\n",
    "\n",
    "# 重複している要素がある場合は、削除される。\n",
    "colors =  {\"red\", \"blue\", \"green\", \"red\"}\n",
    "print(colors)"
   ]
  },
  {
   "cell_type": "markdown",
   "id": "3f71d6a4-c5f7-48c0-b9c9-c12921ad0056",
   "metadata": {},
   "source": [
    "### セットの操作\n",
    "\n",
    "- 追加\n",
    "- 削除"
   ]
  },
  {
   "cell_type": "code",
   "execution_count": 15,
   "id": "18059233-b99e-45da-a3bf-4eeb5fa01077",
   "metadata": {},
   "outputs": [
    {
     "name": "stdout",
     "output_type": "stream",
     "text": [
      "{'blue', 'red', 'yellow', 'green'}\n",
      "{'red', 'yellow', 'green'}\n"
     ]
    }
   ],
   "source": [
    "# セットに要素を追加\n",
    "colors.add(\"yellow\")\n",
    "print(colors)\n",
    "\n",
    "# セットから要素を削除\n",
    "colors.remove(\"blue\")\n",
    "print(colors)"
   ]
  },
  {
   "cell_type": "markdown",
   "id": "854ca8d3-d04e-42a4-9d00-658990559cc6",
   "metadata": {},
   "source": [
    "## セクション5: 制御構造\n",
    "\n",
    "Pythonでは条件分岐やループ文を利用してプログラムの実行を効果的に制御することができます。  \n",
    "\n",
    "### 条件分岐\n",
    "`if ... elif ... else`で制御できます。  \n",
    "ここの条件判定には`真偽値型`を利用します。\n",
    "\n",
    "具体例として\n",
    "\n",
    "1. 偶数奇数を判定する処理\n",
    "2. 正負を判定する処理\n",
    "\n",
    "を書きます"
   ]
  },
  {
   "cell_type": "code",
   "execution_count": 16,
   "id": "50eea86a-4738-4078-8ad2-4ec28f3712ff",
   "metadata": {},
   "outputs": [
    {
     "name": "stdin",
     "output_type": "stream",
     "text": [
      "判定する数字:  9\n"
     ]
    },
    {
     "name": "stdout",
     "output_type": "stream",
     "text": [
      "奇数\n"
     ]
    }
   ],
   "source": [
    "# 偶数 / 奇数の判定\n",
    "number = int(input(\"判定する数字: \"))\n",
    "\n",
    "# 2で割った余りで条件分岐\n",
    "if number % 2 == 0:\n",
    "    print(\"偶数\")\n",
    "else:\n",
    "    print(\"奇数\")\n"
   ]
  },
  {
   "cell_type": "code",
   "execution_count": 17,
   "id": "4746715b-fc9d-4ac8-ad42-47445c03d487",
   "metadata": {},
   "outputs": [
    {
     "name": "stdin",
     "output_type": "stream",
     "text": [
      "判定する数字:  6\n"
     ]
    },
    {
     "name": "stdout",
     "output_type": "stream",
     "text": [
      "入力された数値は:  正の数 です\n"
     ]
    }
   ],
   "source": [
    "# 正負を判定する処理\n",
    "number = int(input(\"判定する数字: \"))\n",
    "\n",
    "# 符号の判定\n",
    "if number > 0:\n",
    "    sign = \"正の数\"\n",
    "elif number < 0:\n",
    "    sign = \"負の数\"\n",
    "else:\n",
    "    sign = \"0\"\n",
    "\n",
    "print(\"入力された数値は: \", sign, \"です\")"
   ]
  },
  {
   "cell_type": "markdown",
   "id": "ba7a8369-58cd-43d5-abe5-9b7b9e051c8e",
   "metadata": {},
   "source": [
    "### ループ文\n",
    "ループ文には`for`と`while`の2種類存在します。  \n",
    "幾つかのデータに対し、同じ処理を繰り返す場合に非常に有効な機能です。\n",
    "\n",
    "- `for`: listやタプル, 辞書など決まった範囲をループする\n",
    "- `while`: 条件を満たす限りループする\n",
    "\n",
    "### for文\n",
    "`for {変数名} in {範囲}:`で実行します。  \n",
    "例として、1 ~ 4の数字を出力するという目的に対して、for文を使わない場合と使った場合で比較します。"
   ]
  },
  {
   "cell_type": "code",
   "execution_count": 18,
   "id": "519a69a5-a7f1-40c4-b71d-a79c89b59c8f",
   "metadata": {},
   "outputs": [
    {
     "name": "stdout",
     "output_type": "stream",
     "text": [
      "1\n",
      "2\n",
      "3\n",
      "4\n",
      "1\n",
      "2\n",
      "3\n",
      "4\n"
     ]
    }
   ],
   "source": [
    "# for文を使わない場合\n",
    "print(1)\n",
    "print(2)\n",
    "print(3)\n",
    "print(4)\n",
    "\n",
    "# for文を使った場合\n",
    "for i in [1, 2, 3, 4]:\n",
    "    print(i)"
   ]
  },
  {
   "cell_type": "markdown",
   "id": "5d5814e0-5f3f-4787-b896-65431aae5c1b",
   "metadata": {},
   "source": [
    "条件分岐と組み合わせることでより柔軟な処理を実現できます。\n",
    "\n",
    "例えば、0から99までの偶数だけ表示する処理を実装します。\n",
    "\n",
    "Pythonには数字の連番を作成してくれる`range`というt機能があるので、合わせてそれを利用します。"
   ]
  },
  {
   "cell_type": "code",
   "execution_count": 19,
   "id": "347300e1-f48f-4b91-82ad-6192d4084d83",
   "metadata": {},
   "outputs": [
    {
     "name": "stdout",
     "output_type": "stream",
     "text": [
      "0, 2, 4, 6, 8, 10, 12, 14, 16, 18, 20, 22, 24, 26, 28, 30, 32, 34, 36, 38, 40, 42, 44, 46, 48, 50, 52, 54, 56, 58, 60, 62, 64, 66, 68, 70, 72, 74, 76, 78, 80, 82, 84, 86, 88, 90, 92, 94, 96, 98, "
     ]
    }
   ],
   "source": [
    "# numberは0 ~ 99をループする\n",
    "for number in range(100):\n",
    "    if number % 2 == 0:\n",
    "        print(number, end=\", \")\n",
    "    "
   ]
  },
  {
   "cell_type": "markdown",
   "id": "5377762f-5521-4833-85c2-248c5898e30f",
   "metadata": {},
   "source": [
    "### While文\n",
    "\n",
    "`while {条件}:`で実行します。\n",
    "\n",
    "for文と同様に1 ~ 4の数字を出力します"
   ]
  },
  {
   "cell_type": "code",
   "execution_count": 20,
   "id": "3b80444c-3b6e-455e-9515-ecb478a63d96",
   "metadata": {},
   "outputs": [
    {
     "name": "stdout",
     "output_type": "stream",
     "text": [
      "1\n",
      "2\n",
      "3\n",
      "4\n"
     ]
    }
   ],
   "source": [
    "# 最初の数\n",
    "number = 1\n",
    "\n",
    "# numberが4以下の時に実行\n",
    "while number <= 4:\n",
    "    print(number)\n",
    "    # numberに1追加する\n",
    "    number = number + 1"
   ]
  },
  {
   "cell_type": "markdown",
   "id": "151a9603-e30f-46fa-83ba-851ce2d61d27",
   "metadata": {},
   "source": [
    "さらに先ほどと同様に、0 ~ 99の偶数を出力する処理を`while`で実装します。"
   ]
  },
  {
   "cell_type": "code",
   "execution_count": 21,
   "id": "73be0451-bd48-4a5f-b6c8-05c29c6502db",
   "metadata": {
    "scrolled": true
   },
   "outputs": [
    {
     "name": "stdout",
     "output_type": "stream",
     "text": [
      "0,2,4,6,8,10,12,14,16,18,20,22,24,26,28,30,32,34,36,38,40,42,44,46,48,50,52,54,56,58,60,62,64,66,68,70,72,74,76,78,80,82,84,86,88,90,92,94,96,98,"
     ]
    }
   ],
   "source": [
    "number = 0\n",
    "\n",
    "while number < 100:\n",
    "    if number % 2 == 0:\n",
    "        print(number, end=\",\")\n",
    "    number = number + 1"
   ]
  },
  {
   "cell_type": "markdown",
   "id": "0ece5593-6a8b-47f9-bfa7-f82abc060b55",
   "metadata": {},
   "source": [
    "#### ループの制御\n",
    "\n",
    "特定の条件でループをやめたい時や、次のループへ進みたい時があります。  \n",
    "例えば、以下のようなケースが考えられます。\n",
    "\n",
    "- ユーザの中から年齢がが20代のユーザを3人抽出したい。 -> ループを途中で止める = `break`\n",
    "- ユーザの中から2020年に口座開設したユーザの名前が欲しい。 -> ループの一部のユーザに処理をしない = `continue`\n"
   ]
  },
  {
   "cell_type": "code",
   "execution_count": 22,
   "id": "9b203731-d69c-4ace-aa97-9802fb35ff6f",
   "metadata": {},
   "outputs": [
    {
     "name": "stdout",
     "output_type": "stream",
     "text": [
      "['守屋', '末永', '田頭']\n"
     ]
    }
   ],
   "source": [
    "# ユーザの中から年齢がが20代のユーザを3人抽出したい\n",
    "user_list = [\n",
    "    {\"name\": \"守屋\", \"age\": 25, \"bank_open_year\": 2019},\n",
    "    {\"name\": \"石野\", \"age\": 18, \"bank_open_year\": 2020},\n",
    "    {\"name\": \"末永\", \"age\": 28, \"bank_open_year\": 2020},\n",
    "    {\"name\": \"田頭\", \"age\": 23, \"bank_open_year\": 2021},\n",
    "    {\"name\": \"峰\", \"age\": 23, \"bank_open_year\": 2020},\n",
    "    {\"name\": \"浜田\", \"age\": 40, \"bank_open_year\": 2022},\n",
    "    {\"name\": \"毒島\", \"age\": 42, \"bank_open_year\": 2023},\n",
    "    {\"name\": \"山口\", \"age\": 32, \"bank_open_year\": 2020},\n",
    "]\n",
    "\n",
    "# 20代のユーザをlistに格納する\n",
    "young_user_list = []\n",
    "for user in user_list:\n",
    "    if (user[\"age\"] >= 20) and (user[\"age\"] <= 29):\n",
    "        young_user_list.append(user[\"name\"])\n",
    "\n",
    "    # 3人集まったらループ処理をやめる\n",
    "    if len(young_user_list) == 3:\n",
    "        break\n",
    "\n",
    "# 選択されたユーザの名前を表示\n",
    "print(young_user_list)\n",
    "    "
   ]
  },
  {
   "cell_type": "code",
   "execution_count": 23,
   "id": "1928bf7b-70b7-4763-9044-affc3cbe78a0",
   "metadata": {},
   "outputs": [
    {
     "name": "stdout",
     "output_type": "stream",
     "text": [
      "石野\n",
      "末永\n",
      "峰\n",
      "山口\n"
     ]
    }
   ],
   "source": [
    "# ユーザの中から2020年に口座開設したユーザの名前が欲しい\n",
    "bank_open_2020_users = []\n",
    "\n",
    "for user in user_list:\n",
    "    # 2020年以外のユーザは次の処理に進む\n",
    "    if user[\"bank_open_year\"] != 2020:\n",
    "        continue\n",
    "    print(user[\"name\"])"
   ]
  },
  {
   "cell_type": "code",
   "execution_count": null,
   "id": "56455fa3-7bd2-4dc2-a285-6979aacf03ad",
   "metadata": {},
   "outputs": [],
   "source": []
  }
 ],
 "metadata": {
  "kernelspec": {
   "display_name": "Python 3 (ipykernel)",
   "language": "python",
   "name": "python3"
  },
  "language_info": {
   "codemirror_mode": {
    "name": "ipython",
    "version": 3
   },
   "file_extension": ".py",
   "mimetype": "text/x-python",
   "name": "python",
   "nbconvert_exporter": "python",
   "pygments_lexer": "ipython3",
   "version": "3.11.6"
  }
 },
 "nbformat": 4,
 "nbformat_minor": 5
}
