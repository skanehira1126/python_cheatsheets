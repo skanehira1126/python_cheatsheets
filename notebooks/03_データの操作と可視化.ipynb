{
 "cells": [
  {
   "cell_type": "markdown",
   "id": "4c8b91a5-36c1-4286-a78c-df600322f178",
   "metadata": {},
   "source": [
    "# データの操作と可視化\n",
    "\n",
    "## Numpyによる基本的なデータ操作\n",
    "\n",
    "### 配列の定義と情報の取得\n",
    "\n",
    "numpyの配列は`np.array`関数で定義できます。  \n",
    "numpyのarrayは行列のような機能が実装されていて、自身の形状や大きさを属性として持ちます。\n",
    "\n",
    "- `shape`: 行列の形を取得\n",
    "- `size`: 要素数を取得"
   ]
  },
  {
   "cell_type": "code",
   "execution_count": 3,
   "id": "a6f6c692-cacb-46ba-ae5b-3301b2fc074d",
   "metadata": {},
   "outputs": [],
   "source": [
    "import numpy as np"
   ]
  },
  {
   "cell_type": "code",
   "execution_count": 11,
   "id": "4af12448-9e5e-4ee7-902e-dbc5d1463891",
   "metadata": {},
   "outputs": [
    {
     "name": "stdout",
     "output_type": "stream",
     "text": [
      "1次元配列\n",
      " [1 2 3 4]\n",
      "配列の形状とサイズ:  (4,) 4\n",
      "2次元配列\n",
      " [[1 2]\n",
      " [3 4]]\n",
      "配列の形状とサイズ:  (2, 2) 4\n"
     ]
    }
   ],
   "source": [
    "# 1次元配列\n",
    "arr_1d = np.array([1, 2, 3, 4])\n",
    "\n",
    "# 2次元配列\n",
    "arr_2d = np.array([[1, 2], [3, 4]])\n",
    "\n",
    "print(\"1次元配列\\n\", arr_1d)\n",
    "print(\"配列の形状とサイズ: \", arr_1d.shape, arr_1d.size)\n",
    "\n",
    "print(\"2次元配列\\n\", arr_2d)\n",
    "print(\"配列の形状とサイズ: \", arr_2d.shape, arr_2d.size)"
   ]
  },
  {
   "cell_type": "markdown",
   "id": "7abd5c17-f4e7-4210-944f-ef680bd80331",
   "metadata": {},
   "source": [
    "### 配列の操作\n",
    "\n",
    "- 要素へのアクセス\n",
    "- 形状の変更: `reshape`\n",
    "- 結合: `concatenate`\n",
    "  結合の向きは`axis`で指定します。\n"
   ]
  },
  {
   "cell_type": "code",
   "execution_count": 30,
   "id": "5694287b-6764-4212-9448-812219b2d1ea",
   "metadata": {},
   "outputs": [
    {
     "name": "stdout",
     "output_type": "stream",
     "text": [
      "元の配列\n",
      " [[0 1 2]\n",
      " [3 4 5]\n",
      " [6 7 8]]\n",
      "要素へのアクセス\n",
      "[0, 1] ->  1\n",
      "[:2, 2] ->  [2 5]\n",
      "[:2, [2]] ->  [[2]\n",
      " [5]]\n",
      "形状の変更\n",
      "3 * 3 -> 1 * 9 に変換\n",
      "[[0 1 2 3 4 5 6 7 8]] (1, 9)\n",
      "3 * 3 -> 9 * 1 に変換\n",
      "[[0]\n",
      " [1]\n",
      " [2]\n",
      " [3]\n",
      " [4]\n",
      " [5]\n",
      " [6]\n",
      " [7]\n",
      " [8]] (9, 1)\n",
      "3 * 3 -> 9 に変換\n",
      "[0 1 2 3 4 5 6 7 8] (9,)\n"
     ]
    }
   ],
   "source": [
    "# 配列の定義\n",
    "arr = np.array([[0, 1, 2], [3, 4, 5], [6, 7, 8]])\n",
    "print(\"元の配列\\n\", arr)\n",
    "\n",
    "# 要素へのアクセス\n",
    "print(\"要素へのアクセス\")\n",
    "print(\"[0, 1] -> \", arr[0, 1])\n",
    "print(\"[:2, 2] -> \", arr[:2, 2])  # 1次元配列が返却される\n",
    "print(\"[:2, [2]] -> \", arr[:2, [2]])  # 2*1の配列が返却される\n",
    "\n",
    "# 形状の変更\n",
    "print(\"形状の変更\")\n",
    "print(\"3 * 3 -> 1 * 9 に変換\")\n",
    "arr_19 = arr.reshape(1, 9)\n",
    "print(arr_19, arr_19.shape)\n",
    "print(\"3 * 3 -> 9 * 1 に変換\")\n",
    "arr_91 = arr.reshape(9, 1)\n",
    "print(arr_91, arr_91.shape) \n",
    "# 1次元配列に変更\n",
    "print(\"3 * 3 -> 9 に変換\")\n",
    "arr_9 = arr.reshape(9,)\n",
    "print(arr_9, arr_9.shape)\n"
   ]
  },
  {
   "cell_type": "code",
   "execution_count": 40,
   "id": "c4313265-92d2-4d8a-ae76-1dac48566070",
   "metadata": {},
   "outputs": [
    {
     "name": "stdout",
     "output_type": "stream",
     "text": [
      "結合する前のarrayを定義\n",
      "arr1:  (2, 4)\n",
      "[[1 2 3 4]\n",
      " [5 6 7 8]]\n",
      "arr2:  (2, 2)\n",
      "[[-1 -2]\n",
      " [-5 -6]]\n",
      "arr３:  (1, 4)\n",
      "[[-1 -2 -3 -4]]\n",
      "縦方向に結合した配列\n",
      "[[ 1  2  3  4]\n",
      " [ 5  6  7  8]\n",
      " [-1 -2 -3 -4]]\n",
      "横方向に結合した配列\n",
      "[[ 1  2  3  4 -1 -2]\n",
      " [ 5  6  7  8 -5 -6]]\n"
     ]
    }
   ],
   "source": [
    "# 配列の結合\n",
    "print(\"結合する前のarrayを定義\")\n",
    "arr1 = np.array([[1, 2, 3, 4], [5, 6, 7, 8]])\n",
    "\n",
    "print(\"arr1: \", arr1.shape)\n",
    "print(arr1)\n",
    "\n",
    "arr2 = np.array([[-1, -2], [-5, -6]])\n",
    "\n",
    "print(\"arr2: \", arr2.shape)\n",
    "print(arr2)\n",
    "\n",
    "arr３ = np.array([[-1, -2, -3, -4]])\n",
    "\n",
    "print(\"arr３: \", arr３.shape)\n",
    "print(arr３)\n",
    "\n",
    "# 結合\n",
    "print(\"縦方向に結合した配列\")  \n",
    "#.shapeの1つ目の要素の方向について結合するのでaxis=0を指定\n",
    "arr_v = np.concatenate([arr1, arr3], axis=0)\n",
    "print(arr_v)\n",
    "\n",
    "print(\"横方向に結合した配列\")\n",
    "#.shapeの2つ目の要素の方向について結合するのでaxis=1を指定\n",
    "arr_h = np.concatenate([arr1, arr2], axis=1)\n",
    "print(arr_h)\n",
    "\n"
   ]
  },
  {
   "cell_type": "markdown",
   "id": "9330b593-aa24-49ff-af86-7101d2189977",
   "metadata": {},
   "source": [
    "### 配列の計算\n",
    "\n",
    "numpyの`array`は基本的な四則演算はサポートされています。  \n",
    "ただし、あくまで要素ごとの演算であり、内積や外積のような行列演算は別の関数が用意されています。"
   ]
  },
  {
   "cell_type": "code",
   "execution_count": 43,
   "id": "caacab69-74fd-447e-bde2-6a70efaaff79",
   "metadata": {},
   "outputs": [
    {
     "name": "stdout",
     "output_type": "stream",
     "text": [
      "arr1:  [1 2 3]\n",
      "arr2:  [2 4 6]\n",
      "和:  [3 6 9]\n",
      "差:  [-1 -2 -3]\n",
      "積:  [ 2  8 18]\n",
      "商:  [0.5 0.5 0.5]\n"
     ]
    }
   ],
   "source": [
    "# 計算するための配列の定義\n",
    "arr1 = np.array([1, 2, 3])\n",
    "arr2 = np.array([2, 4, 6])\n",
    "\n",
    "print(\"arr1: \", arr1)\n",
    "print(\"arr2: \", arr2)\n",
    "\n",
    "print(\"和: \", arr1 + arr2)\n",
    "print(\"差: \", arr1 - arr2)\n",
    "print(\"積: \", arr1 * arr2)\n",
    "print(\"商: \", arr1 / arr2)"
   ]
  },
  {
   "cell_type": "markdown",
   "id": "266d16d8-9f06-41cc-83f5-75f2b75ed02e",
   "metadata": {},
   "source": [
    "形が合わないとエラーになりますが、結構柔軟に演算してくれます。  \n",
    "逆に意図しない挙動の元になるので丁寧に確認した方が安全です。"
   ]
  },
  {
   "cell_type": "code",
   "execution_count": 54,
   "id": "51cfa93b-2039-4dd7-950b-9f66d960a6e4",
   "metadata": {},
   "outputs": [
    {
     "name": "stdout",
     "output_type": "stream",
     "text": [
      "Error:  operands could not be broadcast together with shapes (3,) (2,2) \n",
      "1次元配列 + 2次元配列 -> 1 * 3の2次元配列\n",
      "[[2 4 6]]\n",
      "1 * 3 + 3 * 1 -> 3 * 3\n",
      "[[2 3 4]\n",
      " [3 4 5]\n",
      " [4 5 6]]\n",
      "pythonの数値との演算\n",
      "np.array([1, 2, 3]) + 1: [2 3 4]\n"
     ]
    }
   ],
   "source": [
    "# 形が違うとエラー\n",
    "try:\n",
    "    np.array([1, 2, 3]) + np.array([[2, 3], [5, 6]])\n",
    "except Exception as e:\n",
    "    print(\"Error: \", e)\n",
    "\n",
    "# これは大丈夫\n",
    "print(\"1次元配列 + 2次元配列 -> 1 * 3の2次元配列\")\n",
    "print(np.array([1, 2, 3]) + np.array([[1, 2, 3]]))\n",
    "\n",
    "# これも大丈夫\n",
    "print(\"1 * 3 + 3 * 1 -> 3 * 3\")\n",
    "print(np.array([1, 2, 3]).reshape(1, 3) + np.array([1, 2, 3]).reshape(3, 1))\n",
    "\n",
    "# pythonの数値はすべての要素への演算\n",
    "print(\"pythonの数値との演算\")\n",
    "print(\"np.array([1, 2, 3]) + 1:\", np.array([1, 2, 3]) + 1)"
   ]
  },
  {
   "cell_type": "markdown",
   "id": "66c2b6bb-86e2-4941-988a-ed16b7f2516c",
   "metadata": {},
   "source": [
    "### 統計的な情報の計算\n",
    "\n",
    "行方向"
   ]
  }
 ],
 "metadata": {
  "kernelspec": {
   "display_name": "Python 3 (ipykernel)",
   "language": "python",
   "name": "python3"
  },
  "language_info": {
   "codemirror_mode": {
    "name": "ipython",
    "version": 3
   },
   "file_extension": ".py",
   "mimetype": "text/x-python",
   "name": "python",
   "nbconvert_exporter": "python",
   "pygments_lexer": "ipython3",
   "version": "3.11.6"
  }
 },
 "nbformat": 4,
 "nbformat_minor": 5
}
